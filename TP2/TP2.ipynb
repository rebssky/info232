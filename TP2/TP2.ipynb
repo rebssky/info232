{
 "cells": [
  {
   "cell_type": "markdown",
   "metadata": {},
   "source": [
    "<div>\n",
    "<img src=\"logo.png\", width=100, ALIGN=\"left\">\n",
    "<center>\n",
    "<h1>Mini Projets 2019-2020 (Info 232)</h1>\n",
    "Isabelle Guyon <br>\n",
    "info232@chalearn.org <br>\n",
    "</center>\n",
    "<span style=\"color:red\"> <h1> 2 . Pandas </h1> </span>\n",
    "    \n",
    "We have now a dataset of pictures of REAL apples and bananas, preprocessed in 4 different representations:\n",
    "- one with only 2 features (<b>R</b>edness and <b>E</b>longation) called <b>RE_data.csv</b>\n",
    "- one with only 21 features (<b>C</b>olor and <b>S</b>hape features) called <b>CS_data.csv</b>\n",
    "- one with 14580 features (all pixels of 81x69x3 <b>raw</b> images) called <b>RAW_data.csv</b>\n",
    "- one with 3072 features (all pixels of 32x32x3 <b>crop</b>ped images) called <b>CROP_data.csv</b>.\n",
    "\n",
    "We will compare the performances of various classifiers on those 4 datasets. Thus, we are going to start doing \"real\" POM: Probability, Optimization, and Modeling. We will proceed in a \"greedy\" way, eliminating some non promising avenues as we go, and not revisiting them for the moment:\n",
    "\n",
    "1. Which dataset version should we keep? Should we or not scale variables (using variable standardization)?\n",
    "2. Which learning machine of a standard toolkit (scikit-learn) is most promising?\n",
    "\n",
    "</div>\n",
    "<div style=\"background:#FFFFAA\">\n",
    "    \n",
    " This TP gives you 5 points if you answer well ALL 5 questions. If you cannot fisnish, get help by attending the Wednesday session.\n",
    "    \n",
    "<span style=\"color:red\"> <b>Save your notebook often with menu File + Save and Checkpoint.</b>\n",
    "<br> <b>Before you push your homework to your GitHub repo, use  Kernel + Restart and Run all.</b>\n",
    "</span>\n",
    "    </div>\n",
    "    "
   ]
  },
  {
   "cell_type": "code",
   "execution_count": 1,
   "metadata": {},
   "outputs": [],
   "source": [
    "# Load general libraries\n",
    "import os, re\n",
    "from glob import glob as ls\n",
    "from PIL import Image\n",
    "import matplotlib.pyplot as plt\n",
    "%matplotlib inline\n",
    "%load_ext autoreload\n",
    "%autoreload 2\n",
    "\n",
    "### Add path to the sample code so the notebook finds it:\n",
    "code_dir = 'code/'                        \n",
    "from sys import path; path.append(code_dir)\n",
    "from utilities import *\n",
    "# Import code that checks your answers\n",
    "from checker import check \n",
    "# Disable some warnings\n",
    "import warnings\n",
    "warnings.simplefilter(action='ignore', category=FutureWarning) "
   ]
  },
  {
   "cell_type": "markdown",
   "metadata": {},
   "source": [
    "# Step 1: Select data representation\n",
    "Which dataset version should we keep? Should we do or not a variable standardization?"
   ]
  },
  {
   "cell_type": "markdown",
   "metadata": {},
   "source": [
    "### Question 0: Examine the data directory\n",
    "Go to the directory `mini-dataset/`. You should find four data files ending with `.csv`. In an editor, open `RL_data.csv` or another of the data files to see how it looks like. The dataset is formatted in the CSV format (comma separated file). The examples are in lines and the features are separated by commas. The first line is the header. \n",
    "\n",
    "Examine all 4 datasets and note the number of lines and columns. Notice that they all have a different number of features but the same number of examples. \n",
    "\n",
    "It is somewhat easier to write a Python program to do this work for you. Check how the function `check_datasets` is written by typing `??check_datasets` in a new cell. Verify with an editor that this is the same code that is found in the directory `code/` in the file `utilities.py`. "
   ]
  },
  {
   "cell_type": "code",
   "execution_count": 2,
   "metadata": {},
   "outputs": [
    {
     "data": {
      "text/plain": [
       "['./mini-dataset/RAW_data.csv',\n",
       " './mini-dataset/CROP_data.csv',\n",
       " './mini-dataset/RE_data.csv',\n",
       " './mini-dataset/CS_data.csv']"
      ]
     },
     "execution_count": 2,
     "metadata": {},
     "output_type": "execute_result"
    }
   ],
   "source": [
    "# List the datasets\n",
    "data_dir = './mini-dataset/'\n",
    "data_list = ls(data_dir + '*_data.csv')\n",
    "data_list"
   ]
  },
  {
   "cell_type": "code",
   "execution_count": 3,
   "metadata": {},
   "outputs": [
    {
     "data": {
      "text/html": [
       "<div>\n",
       "<style scoped>\n",
       "    .dataframe tbody tr th:only-of-type {\n",
       "        vertical-align: middle;\n",
       "    }\n",
       "\n",
       "    .dataframe tbody tr th {\n",
       "        vertical-align: top;\n",
       "    }\n",
       "\n",
       "    .dataframe thead th {\n",
       "        text-align: right;\n",
       "    }\n",
       "</style>\n",
       "<table border=\"1\" class=\"dataframe\">\n",
       "  <thead>\n",
       "    <tr style=\"text-align: right;\">\n",
       "      <th></th>\n",
       "      <th>Dataset</th>\n",
       "      <th>num. examples</th>\n",
       "      <th>num. features</th>\n",
       "      <th>num. apples</th>\n",
       "      <th>num. bananas</th>\n",
       "    </tr>\n",
       "  </thead>\n",
       "  <tbody>\n",
       "    <tr>\n",
       "      <td>0</td>\n",
       "      <td>RAW</td>\n",
       "      <td>491</td>\n",
       "      <td>14581</td>\n",
       "      <td>333</td>\n",
       "      <td>158</td>\n",
       "    </tr>\n",
       "    <tr>\n",
       "      <td>1</td>\n",
       "      <td>CROP</td>\n",
       "      <td>491</td>\n",
       "      <td>3073</td>\n",
       "      <td>333</td>\n",
       "      <td>158</td>\n",
       "    </tr>\n",
       "    <tr>\n",
       "      <td>2</td>\n",
       "      <td>RE</td>\n",
       "      <td>491</td>\n",
       "      <td>3</td>\n",
       "      <td>333</td>\n",
       "      <td>158</td>\n",
       "    </tr>\n",
       "    <tr>\n",
       "      <td>3</td>\n",
       "      <td>CS</td>\n",
       "      <td>491</td>\n",
       "      <td>22</td>\n",
       "      <td>333</td>\n",
       "      <td>158</td>\n",
       "    </tr>\n",
       "  </tbody>\n",
       "</table>\n",
       "</div>"
      ],
      "text/plain": [
       "  Dataset  num. examples  num. features  num. apples  num. bananas\n",
       "0     RAW            491          14581          333           158\n",
       "1    CROP            491           3073          333           158\n",
       "2      RE            491              3          333           158\n",
       "3      CS            491             22          333           158"
      ]
     },
     "execution_count": 3,
     "metadata": {},
     "output_type": "execute_result"
    }
   ],
   "source": [
    "# Check the dataset sizes\n",
    "check_datasets(data_list)"
   ]
  },
  {
   "cell_type": "markdown",
   "metadata": {},
   "source": [
    "<div style=\"background:#FFFFAA\">\n",
    "    Here you need to do something!\n",
    "</div>\n",
    "<b>Show the code of check_datasets.</b>"
   ]
  },
  {
   "cell_type": "code",
   "execution_count": 4,
   "metadata": {},
   "outputs": [],
   "source": [
    "?? check_datasets"
   ]
  },
  {
   "cell_type": "markdown",
   "metadata": {},
   "source": [
    "### Question 1: Load and visualize data with Pandas (review)\n",
    "In previous classes we have have started using `Numpy arrays`and `Pandas dataframes`. We now explore Pandas a little bit further. Pandas dataframes are also arrays, but a different kind of python object that Numpy arrays. They have more properties, supporting fancy database functions and having quite a few display functions and nice simple summary statistics, <a href=\"https://pandas.pydata.org/pandas-docs/stable/reference/api/pandas.DataFrame.html\">check the documentation</a>. Learning about Pandas will help a lot the <i>visualization binome</i>.\n",
    "\n",
    "First, you will perform these steps:\n",
    "* Call to UNIX command `!head ./mini-dataset/RE_data.csv` to view the first few lines of the file. The character `!` allows you to \"escape\" from the Jupyter notebook to the UNIX shell.\n",
    "* Load `RL_data.csv` as a pandas dataframe called `df`. Show the first few lines using the method `head`.\n",
    "* Compute simple statistics using the method `describe`.\n",
    "* Show the heat map. If you do not remember from the previous TP, think of using a search engine and type the keywords: \"pandas heatmap\". I found <a href=\"https://stackoverflow.com/questions/12286607/making-heatmap-from-pandas-dataframe\">this post</a>, for instance. \n",
    "* Create a new data frame called `df_scaled` obtained by standardizing the columns of `df`. In the previous TP we used the method `StandardScaler` of `sklearn.preprocessing`. Notice that you can also simply compute the mean of `df` with `df.mean()` and the standard deviation with `df.std()`, then in one line of code get `df_scaled` by performing algebraic operations on dataframes!\n",
    "* We actually doe NOT want to standardize the <b>last column</b> (the class label). Make sure the last column of  `df_scaled` has the ORIGINAL label values +1 or -1.\n",
    "\n",
    "Then, the question you should answer to complete this section is: what are the mean and standard deviation of the lines and the columns of the `redness` and `elongation` features before and after standardization?"
   ]
  },
  {
   "cell_type": "markdown",
   "metadata": {},
   "source": [
    "<div style=\"background:#FFFFAA\">\n",
    "    Here you need to do something!\n",
    "</div>\n",
    "<b>Put here your call to the UNIX command \"head\".</b>"
   ]
  },
  {
   "cell_type": "code",
   "execution_count": 5,
   "metadata": {},
   "outputs": [
    {
     "name": "stdout",
     "output_type": "stream",
     "text": [
      "redness,elongation,fruit\r\n",
      "8.429611650485437,1.4032012759326986,1.0\r\n",
      "42.89607843137255,1.7032009898154288,1.0\r\n",
      "56.354066985645936,1.5508105645577395,1.0\r\n",
      "-10.528846153846153,1.7773426521360935,1.0\r\n",
      "-17.131386861313867,2.047174441534352,1.0\r\n",
      "36.041666666666664,1.4139561143744013,1.0\r\n",
      "34.744932432432435,1.2379057682280559,1.0\r\n",
      "1.8179190751445087,1.0839275628229141,1.0\r\n",
      "3.34106529209622,1.0972000640347488,1.0\r\n"
     ]
    }
   ],
   "source": [
    "!head ./mini-dataset/RE_data.csv"
   ]
  },
  {
   "cell_type": "code",
   "execution_count": null,
   "metadata": {},
   "outputs": [],
   "source": []
  },
  {
   "cell_type": "markdown",
   "metadata": {},
   "source": [
    "<div style=\"background:#FFFFAA\">\n",
    "    Here you need to do something!\n",
    "</div>\n",
    "<b>Read file RE_data.csv as a dataframe and call it \"df\".</b>"
   ]
  },
  {
   "cell_type": "code",
   "execution_count": 6,
   "metadata": {},
   "outputs": [
    {
     "data": {
      "text/html": [
       "<div>\n",
       "<style scoped>\n",
       "    .dataframe tbody tr th:only-of-type {\n",
       "        vertical-align: middle;\n",
       "    }\n",
       "\n",
       "    .dataframe tbody tr th {\n",
       "        vertical-align: top;\n",
       "    }\n",
       "\n",
       "    .dataframe thead th {\n",
       "        text-align: right;\n",
       "    }\n",
       "</style>\n",
       "<table border=\"1\" class=\"dataframe\">\n",
       "  <thead>\n",
       "    <tr style=\"text-align: right;\">\n",
       "      <th></th>\n",
       "      <th>redness</th>\n",
       "      <th>elongation</th>\n",
       "      <th>fruit</th>\n",
       "    </tr>\n",
       "  </thead>\n",
       "  <tbody>\n",
       "    <tr>\n",
       "      <td>0</td>\n",
       "      <td>8.429612</td>\n",
       "      <td>1.403201</td>\n",
       "      <td>1.0</td>\n",
       "    </tr>\n",
       "    <tr>\n",
       "      <td>1</td>\n",
       "      <td>42.896078</td>\n",
       "      <td>1.703201</td>\n",
       "      <td>1.0</td>\n",
       "    </tr>\n",
       "    <tr>\n",
       "      <td>2</td>\n",
       "      <td>56.354067</td>\n",
       "      <td>1.550811</td>\n",
       "      <td>1.0</td>\n",
       "    </tr>\n",
       "    <tr>\n",
       "      <td>3</td>\n",
       "      <td>-10.528846</td>\n",
       "      <td>1.777343</td>\n",
       "      <td>1.0</td>\n",
       "    </tr>\n",
       "    <tr>\n",
       "      <td>4</td>\n",
       "      <td>-17.131387</td>\n",
       "      <td>2.047174</td>\n",
       "      <td>1.0</td>\n",
       "    </tr>\n",
       "  </tbody>\n",
       "</table>\n",
       "</div>"
      ],
      "text/plain": [
       "     redness  elongation  fruit\n",
       "0   8.429612    1.403201    1.0\n",
       "1  42.896078    1.703201    1.0\n",
       "2  56.354067    1.550811    1.0\n",
       "3 -10.528846    1.777343    1.0\n",
       "4 -17.131387    2.047174    1.0"
      ]
     },
     "execution_count": 6,
     "metadata": {},
     "output_type": "execute_result"
    }
   ],
   "source": [
    "df = pd.read_csv(data_list[2])\n",
    "df.head()"
   ]
  },
  {
   "cell_type": "markdown",
   "metadata": {},
   "source": [
    "<div style=\"background:#FFFFAA\">\n",
    "    Here you need to do something!\n",
    "</div>\n",
    "<b>Show descriptive statistics with the method \"describe\".</b>"
   ]
  },
  {
   "cell_type": "code",
   "execution_count": 7,
   "metadata": {},
   "outputs": [
    {
     "data": {
      "text/html": [
       "<div>\n",
       "<style scoped>\n",
       "    .dataframe tbody tr th:only-of-type {\n",
       "        vertical-align: middle;\n",
       "    }\n",
       "\n",
       "    .dataframe tbody tr th {\n",
       "        vertical-align: top;\n",
       "    }\n",
       "\n",
       "    .dataframe thead th {\n",
       "        text-align: right;\n",
       "    }\n",
       "</style>\n",
       "<table border=\"1\" class=\"dataframe\">\n",
       "  <thead>\n",
       "    <tr style=\"text-align: right;\">\n",
       "      <th></th>\n",
       "      <th>redness</th>\n",
       "      <th>elongation</th>\n",
       "      <th>fruit</th>\n",
       "    </tr>\n",
       "  </thead>\n",
       "  <tbody>\n",
       "    <tr>\n",
       "      <td>count</td>\n",
       "      <td>491.000000</td>\n",
       "      <td>491.000000</td>\n",
       "      <td>491.000000</td>\n",
       "    </tr>\n",
       "    <tr>\n",
       "      <td>mean</td>\n",
       "      <td>17.863426</td>\n",
       "      <td>1.468878</td>\n",
       "      <td>0.356415</td>\n",
       "    </tr>\n",
       "    <tr>\n",
       "      <td>std</td>\n",
       "      <td>21.805386</td>\n",
       "      <td>0.521078</td>\n",
       "      <td>0.935280</td>\n",
       "    </tr>\n",
       "    <tr>\n",
       "      <td>min</td>\n",
       "      <td>-47.045455</td>\n",
       "      <td>1.000000</td>\n",
       "      <td>-1.000000</td>\n",
       "    </tr>\n",
       "    <tr>\n",
       "      <td>25%</td>\n",
       "      <td>3.895620</td>\n",
       "      <td>1.161664</td>\n",
       "      <td>-1.000000</td>\n",
       "    </tr>\n",
       "    <tr>\n",
       "      <td>50%</td>\n",
       "      <td>14.380952</td>\n",
       "      <td>1.300111</td>\n",
       "      <td>1.000000</td>\n",
       "    </tr>\n",
       "    <tr>\n",
       "      <td>75%</td>\n",
       "      <td>33.848108</td>\n",
       "      <td>1.598103</td>\n",
       "      <td>1.000000</td>\n",
       "    </tr>\n",
       "    <tr>\n",
       "      <td>max</td>\n",
       "      <td>100.364865</td>\n",
       "      <td>5.231697</td>\n",
       "      <td>1.000000</td>\n",
       "    </tr>\n",
       "  </tbody>\n",
       "</table>\n",
       "</div>"
      ],
      "text/plain": [
       "          redness  elongation       fruit\n",
       "count  491.000000  491.000000  491.000000\n",
       "mean    17.863426    1.468878    0.356415\n",
       "std     21.805386    0.521078    0.935280\n",
       "min    -47.045455    1.000000   -1.000000\n",
       "25%      3.895620    1.161664   -1.000000\n",
       "50%     14.380952    1.300111    1.000000\n",
       "75%     33.848108    1.598103    1.000000\n",
       "max    100.364865    5.231697    1.000000"
      ]
     },
     "execution_count": 7,
     "metadata": {},
     "output_type": "execute_result"
    }
   ],
   "source": [
    "df.describe()"
   ]
  },
  {
   "cell_type": "markdown",
   "metadata": {},
   "source": [
    "<div style=\"background:#FFFFAA\">\n",
    "    Here you need to do something!\n",
    "</div>\n",
    "<b>Show the heat map of \"df\".</b>"
   ]
  },
  {
   "cell_type": "code",
   "execution_count": 8,
   "metadata": {},
   "outputs": [
    {
     "data": {
      "text/plain": [
       "<matplotlib.axes._subplots.AxesSubplot at 0x7fed16b9ce10>"
      ]
     },
     "execution_count": 8,
     "metadata": {},
     "output_type": "execute_result"
    },
    {
     "data": {
      "image/png": "[encoded data removed]",
      "text/plain": [
       "<Figure size 432x288 with 2 Axes>"
      ]
     },
     "metadata": {
      "needs_background": "light"
     },
     "output_type": "display_data"
    }
   ],
   "source": [
    "sns.heatmap(df)\n"
   ]
  },
  {
   "cell_type": "markdown",
   "metadata": {},
   "source": [
    "<div style=\"background:#FFFFAA\">\n",
    "    Here you need to do something!\n",
    "</div>\n",
    "<b>Standardize the columns of \"df\", EXCEPT THE LAST ONE.</b>"
   ]
  },
  {
   "cell_type": "code",
   "execution_count": 9,
   "metadata": {},
   "outputs": [],
   "source": [
    "df_scaled = (df-df.mean())/df.std()\n",
    "df_scaled.iloc[:, -1] = df.iloc[:, -1]"
   ]
  },
  {
   "cell_type": "markdown",
   "metadata": {},
   "source": [
    "<div style=\"background:#FFFFAA\">\n",
    "    Here you need to do something!\n",
    "</div>\n",
    "<b>Your final answers to question 1. </b> What are the mean and standard deviation of the lines and the columns of the `redness` and `elongation` features before and after standardization?"
   ]
  },
  {
   "cell_type": "code",
   "execution_count": 10,
   "metadata": {},
   "outputs": [
    {
     "name": "stdout",
     "output_type": "stream",
     "text": [
      "39.65876749424191\n",
      "39.6587674942419\n"
     ]
    },
    {
     "data": {
      "text/html": [
       "<div style=\"background:#00FF00\">CORRECT<br>:-)</div>"
      ],
      "text/plain": [
       "<IPython.core.display.HTML object>"
      ]
     },
     "metadata": {},
     "output_type": "display_data"
    }
   ],
   "source": [
    "question = 1\n",
    "score = 0\n",
    "# Put your answers to question 1 here\n",
    "redness_mean_before, elongation_mean_before, label_mean_before = df.mean()\n",
    "redness_std_before, elongation_std_before, label_std_before = df.std()\n",
    "redness_mean_after, elongation_mean_after, label_mean_after = df_scaled.mean()\n",
    "redness_std_after, elongation_std_after, label_std_after = df_scaled.std()\n",
    "\n",
    "# This is the checker code, keep it\n",
    "answer = redness_mean_before+elongation_mean_before+label_mean_before\n",
    "answer += redness_std_before+elongation_std_before+label_std_before\n",
    "answer -= redness_mean_after+elongation_mean_after+label_mean_after\n",
    "answer -= redness_std_after+elongation_std_after+label_std_after\n",
    "score += check(answer, question)"
   ]
  },
  {
   "cell_type": "markdown",
   "metadata": {},
   "source": [
    "### Question 2: Write a function to standardize data\n",
    "It is often useful to `standardize` the columns of the data matrix to put all values in a similar scale, so to facilitate re-using this operation, write a function that takes as input a data frame `df` containing a dataset and returns a dataframe `df_scaled` with the columns standardized <b>EXCEPT THE TARGET VALUES</b> of the last column (use your answers to the previous section). Use this template for your code:\n",
    "\n",
    "    def standardize_df(df):\n",
    "    '''Standardize all the columns except the last one (target values).'''\n",
    "    # YOUR CODE HERE\n",
    "    return df_scaled\n",
    "    \n",
    "Test your function with the same dataframe as in the previous questions and use the methods `head` and `describe` to verify that all the columns are standardized, except the last one. Notice that, due to machine precision, you may not get exactly mean=0 and std=1."
   ]
  },
  {
   "cell_type": "code",
   "execution_count": 11,
   "metadata": {},
   "outputs": [
    {
     "data": {
      "text/html": [
       "<div>\n",
       "<style scoped>\n",
       "    .dataframe tbody tr th:only-of-type {\n",
       "        vertical-align: middle;\n",
       "    }\n",
       "\n",
       "    .dataframe tbody tr th {\n",
       "        vertical-align: top;\n",
       "    }\n",
       "\n",
       "    .dataframe thead th {\n",
       "        text-align: right;\n",
       "    }\n",
       "</style>\n",
       "<table border=\"1\" class=\"dataframe\">\n",
       "  <thead>\n",
       "    <tr style=\"text-align: right;\">\n",
       "      <th></th>\n",
       "      <th>redness</th>\n",
       "      <th>elongation</th>\n",
       "      <th>fruit</th>\n",
       "    </tr>\n",
       "  </thead>\n",
       "  <tbody>\n",
       "    <tr>\n",
       "      <td>0</td>\n",
       "      <td>-0.432637</td>\n",
       "      <td>-0.126039</td>\n",
       "      <td>1.0</td>\n",
       "    </tr>\n",
       "    <tr>\n",
       "      <td>1</td>\n",
       "      <td>1.148003</td>\n",
       "      <td>0.449690</td>\n",
       "      <td>1.0</td>\n",
       "    </tr>\n",
       "    <tr>\n",
       "      <td>2</td>\n",
       "      <td>1.765190</td>\n",
       "      <td>0.157238</td>\n",
       "      <td>1.0</td>\n",
       "    </tr>\n",
       "    <tr>\n",
       "      <td>3</td>\n",
       "      <td>-1.302076</td>\n",
       "      <td>0.591975</td>\n",
       "      <td>1.0</td>\n",
       "    </tr>\n",
       "    <tr>\n",
       "      <td>4</td>\n",
       "      <td>-1.604870</td>\n",
       "      <td>1.109809</td>\n",
       "      <td>1.0</td>\n",
       "    </tr>\n",
       "  </tbody>\n",
       "</table>\n",
       "</div>"
      ],
      "text/plain": [
       "    redness  elongation  fruit\n",
       "0 -0.432637   -0.126039    1.0\n",
       "1  1.148003    0.449690    1.0\n",
       "2  1.765190    0.157238    1.0\n",
       "3 -1.302076    0.591975    1.0\n",
       "4 -1.604870    1.109809    1.0"
      ]
     },
     "execution_count": 11,
     "metadata": {},
     "output_type": "execute_result"
    }
   ],
   "source": [
    "# Replace by your own code:\n",
    "def standardize_df(df):\n",
    "    '''Standardize all the columns except the last one (target values).'''\n",
    "    df_scaled = (df-df.mean())/df.std()\n",
    "    df_scaled.iloc[:, -1] = df.iloc[:, -1] # REPLACE THIS\n",
    "    return df_scaled\n",
    "\n",
    "df_scaled2 = standardize_df(df)\n",
    "df_scaled2.head()"
   ]
  },
  {
   "cell_type": "code",
   "execution_count": 12,
   "metadata": {},
   "outputs": [
    {
     "data": {
      "text/html": [
       "<div>\n",
       "<style scoped>\n",
       "    .dataframe tbody tr th:only-of-type {\n",
       "        vertical-align: middle;\n",
       "    }\n",
       "\n",
       "    .dataframe tbody tr th {\n",
       "        vertical-align: top;\n",
       "    }\n",
       "\n",
       "    .dataframe thead th {\n",
       "        text-align: right;\n",
       "    }\n",
       "</style>\n",
       "<table border=\"1\" class=\"dataframe\">\n",
       "  <thead>\n",
       "    <tr style=\"text-align: right;\">\n",
       "      <th></th>\n",
       "      <th>redness</th>\n",
       "      <th>elongation</th>\n",
       "      <th>fruit</th>\n",
       "    </tr>\n",
       "  </thead>\n",
       "  <tbody>\n",
       "    <tr>\n",
       "      <td>count</td>\n",
       "      <td>4.910000e+02</td>\n",
       "      <td>4.910000e+02</td>\n",
       "      <td>491.000000</td>\n",
       "    </tr>\n",
       "    <tr>\n",
       "      <td>mean</td>\n",
       "      <td>-1.085350e-16</td>\n",
       "      <td>-8.266752e-16</td>\n",
       "      <td>0.356415</td>\n",
       "    </tr>\n",
       "    <tr>\n",
       "      <td>std</td>\n",
       "      <td>1.000000e+00</td>\n",
       "      <td>1.000000e+00</td>\n",
       "      <td>0.935280</td>\n",
       "    </tr>\n",
       "    <tr>\n",
       "      <td>min</td>\n",
       "      <td>-2.976736e+00</td>\n",
       "      <td>-8.998221e-01</td>\n",
       "      <td>-1.000000</td>\n",
       "    </tr>\n",
       "    <tr>\n",
       "      <td>25%</td>\n",
       "      <td>-6.405668e-01</td>\n",
       "      <td>-5.895726e-01</td>\n",
       "      <td>-1.000000</td>\n",
       "    </tr>\n",
       "    <tr>\n",
       "      <td>50%</td>\n",
       "      <td>-1.597070e-01</td>\n",
       "      <td>-3.238798e-01</td>\n",
       "      <td>1.000000</td>\n",
       "    </tr>\n",
       "    <tr>\n",
       "      <td>75%</td>\n",
       "      <td>7.330612e-01</td>\n",
       "      <td>2.479972e-01</td>\n",
       "      <td>1.000000</td>\n",
       "    </tr>\n",
       "    <tr>\n",
       "      <td>max</td>\n",
       "      <td>3.783535e+00</td>\n",
       "      <td>7.221221e+00</td>\n",
       "      <td>1.000000</td>\n",
       "    </tr>\n",
       "  </tbody>\n",
       "</table>\n",
       "</div>"
      ],
      "text/plain": [
       "            redness    elongation       fruit\n",
       "count  4.910000e+02  4.910000e+02  491.000000\n",
       "mean  -1.085350e-16 -8.266752e-16    0.356415\n",
       "std    1.000000e+00  1.000000e+00    0.935280\n",
       "min   -2.976736e+00 -8.998221e-01   -1.000000\n",
       "25%   -6.405668e-01 -5.895726e-01   -1.000000\n",
       "50%   -1.597070e-01 -3.238798e-01    1.000000\n",
       "75%    7.330612e-01  2.479972e-01    1.000000\n",
       "max    3.783535e+00  7.221221e+00    1.000000"
      ]
     },
     "execution_count": 12,
     "metadata": {},
     "output_type": "execute_result"
    }
   ],
   "source": [
    "df_scaled2.describe()"
   ]
  },
  {
   "cell_type": "code",
   "execution_count": 13,
   "metadata": {},
   "outputs": [
    {
     "name": "stdout",
     "output_type": "stream",
     "text": [
      "True\n",
      "1\n"
     ]
    },
    {
     "data": {
      "text/html": [
       "<div style=\"background:#00FF00\">CORRECT<br>:-)</div>"
      ],
      "text/plain": [
       "<IPython.core.display.HTML object>"
      ]
     },
     "metadata": {},
     "output_type": "display_data"
    }
   ],
   "source": [
    "# This is the checker code, keep it\n",
    "question = 2\n",
    "answer = (df_scaled == df_scaled2).all().all()\n",
    "score += check(answer, question)"
   ]
  },
  {
   "cell_type": "markdown",
   "metadata": {},
   "source": [
    "<span style=\"color:red\"> \n",
    "    <b>You can now fill `answer__01(data)` in answer.py</b>\n",
    "</span>\n"
   ]
  },
  {
   "cell_type": "markdown",
   "metadata": {},
   "source": [
    "### Question 3: Select the best representation\n",
    "We are now going to loop over all datasets and compare the performance of our baseline method (one nearest neighbor classifier) with and without variable scaling. \n",
    "\n",
    "First you will perform these steps (with some help):\n",
    "* Import `KNeighborsClassifier` from the scikit-learn library (`sklearn`) and instanciate a one nearest neighbor classifier that you will call `sklearn_model`. Also import the `balanced_accuracy_score` and name it `sklearn_metric`.\n",
    "* Call `df_cross_validate(df, sklearn_model, sklearn_metric)` and collect the results, then print the training and test performance and their error bars. <b>Tip:</b> look at the bottom of the code using `??df_cross_validate` to get an idea on how to print the results. \n",
    "* Create:\n",
    " * a list containing all the dataset dataframes and call it `all_data_df`\n",
    " * a list containg all the dataset names and call it `data_name`. \n",
    "* Run the function `systematic_data_experiment(data_name, all_scaled_data_df, sklearn_model, sklearn_metric)` and display the results.\n",
    "* <b>Create a list</b> containing all the SCALED datasets (variables standardized) and call it `all_scaled_data_df`.\n",
    "* Run again `systematic_data_experiment` on `all_scaled_data_df` and display the results.\n",
    "* Fuse the results of the two previous question by creating a dataframe called `joint_results`. Assign `result_scaling.perf_te` to a column called `'SCALED'` and `result_noscaling.perf_te` to a column called `'NOT SCALED'`. Display the results.\n",
    "* Visualize `joint_results` with a histogram. Check <a href=\"https://pandas.pydata.org/pandas-docs/stable/reference/api/pandas.DataFrame.plot.bar.html\">this documentation</a>.\n",
    "\n",
    "Then the questions you should answer are:\n",
    "* Does re-scaling variables always help?\n",
    "* Is which case does it help most?\n",
    "\n",
    "Try to reason why this might be."
   ]
  },
  {
   "cell_type": "markdown",
   "metadata": {},
   "source": [
    "<div style=\"background:#FFFFAA\">\n",
    "    Here you need to do something!\n",
    "</div>\n",
    "<b>Make necessary changes; USE THE DOCUMENTATION OF SCIKIT LEARN (do not copy on your neighbor).</b> "
   ]
  },
  {
   "cell_type": "code",
   "execution_count": 14,
   "metadata": {},
   "outputs": [],
   "source": [
    "from sklearn.neighbors import KNeighborsClassifier # Replace that by nearest neighbors\n",
    "from sklearn.metrics import balanced_accuracy_score as sklearn_metric # Replace that by balanced accuracy \n",
    "sklearn_model = KNeighborsClassifier(n_neighbors=1) # Replace by ONE nearest neighbor"
   ]
  },
  {
   "cell_type": "markdown",
   "metadata": {},
   "source": [
    "<span style=\"color:red\"> \n",
    "    <b>You can now fill `answer__02()` in answer.py</b>\n",
    "</span>\n"
   ]
  },
  {
   "cell_type": "markdown",
   "metadata": {},
   "source": [
    "<span style=\"color:red\"> \n",
    "    <b>You can now fill `answer__03()` in answer.py</b>\n",
    "</span>\n"
   ]
  },
  {
   "cell_type": "markdown",
   "metadata": {},
   "source": [
    "<div style=\"background:#FFFFAA\">\n",
    "    Here you need to do something!\n",
    "</div>\n",
    "<b>Collect the results of df_cross_validate(df, sklearn_model, sklearn_metric).</b> "
   ]
  },
  {
   "cell_type": "code",
   "execution_count": 15,
   "metadata": {},
   "outputs": [
    {
     "name": "stdout",
     "output_type": "stream",
     "text": [
      "AVERAGE TRAINING BALANCED_ACCURACY_SCORE +- STD: 0.64 +- 0.03\n",
      "AVERAGE TEST BALANCED_ACCURACY_SCORE +- STD: 1.00 +- 0.00\n"
     ]
    }
   ],
   "source": [
    "??df_cross_validate\n",
    "p_te, s_te, p_tr, s_tr  = df_cross_validate(df, sklearn_model, sklearn_metric, n=10, verbose=False) # REPLACE THIS!\n",
    "\n",
    "metric_name = sklearn_metric.__name__.upper()\n",
    "print(\"AVERAGE TRAINING {0:s} +- STD: {1:.2f} +- {2:.2f}\".format(metric_name, p_tr, s_tr))\n",
    "print(\"AVERAGE TEST {0:s} +- STD: {1:.2f} +- {2:.2f}\".format(metric_name, p_te, s_te))"
   ]
  },
  {
   "cell_type": "code",
   "execution_count": 16,
   "metadata": {},
   "outputs": [
    {
     "name": "stdout",
     "output_type": "stream",
     "text": [
      "NO SCALING\n",
      "KNEIGHBORSCLASSIFIER\n"
     ]
    },
    {
     "data": {
      "text/html": [
       "<style  type=\"text/css\" >\n",
       "    #T_01481e18_4793_11ea_a3b7_fbd801bcf579row0_col0 {\n",
       "            background-color:  #f7fbff;\n",
       "            color:  #000000;\n",
       "        }    #T_01481e18_4793_11ea_a3b7_fbd801bcf579row0_col1 {\n",
       "            background-color:  #f7fbff;\n",
       "            color:  #000000;\n",
       "        }    #T_01481e18_4793_11ea_a3b7_fbd801bcf579row0_col2 {\n",
       "            background-color:  #deebf7;\n",
       "            color:  #000000;\n",
       "        }    #T_01481e18_4793_11ea_a3b7_fbd801bcf579row0_col3 {\n",
       "            background-color:  #85bcdc;\n",
       "            color:  #000000;\n",
       "        }    #T_01481e18_4793_11ea_a3b7_fbd801bcf579row1_col0 {\n",
       "            background-color:  #f7fbff;\n",
       "            color:  #000000;\n",
       "        }    #T_01481e18_4793_11ea_a3b7_fbd801bcf579row1_col1 {\n",
       "            background-color:  #f7fbff;\n",
       "            color:  #000000;\n",
       "        }    #T_01481e18_4793_11ea_a3b7_fbd801bcf579row1_col2 {\n",
       "            background-color:  #08306b;\n",
       "            color:  #f1f1f1;\n",
       "        }    #T_01481e18_4793_11ea_a3b7_fbd801bcf579row1_col3 {\n",
       "            background-color:  #08306b;\n",
       "            color:  #f1f1f1;\n",
       "        }    #T_01481e18_4793_11ea_a3b7_fbd801bcf579row2_col0 {\n",
       "            background-color:  #f7fbff;\n",
       "            color:  #000000;\n",
       "        }    #T_01481e18_4793_11ea_a3b7_fbd801bcf579row2_col1 {\n",
       "            background-color:  #f7fbff;\n",
       "            color:  #000000;\n",
       "        }    #T_01481e18_4793_11ea_a3b7_fbd801bcf579row2_col2 {\n",
       "            background-color:  #75b4d8;\n",
       "            color:  #000000;\n",
       "        }    #T_01481e18_4793_11ea_a3b7_fbd801bcf579row2_col3 {\n",
       "            background-color:  #4191c6;\n",
       "            color:  #000000;\n",
       "        }    #T_01481e18_4793_11ea_a3b7_fbd801bcf579row3_col0 {\n",
       "            background-color:  #f7fbff;\n",
       "            color:  #000000;\n",
       "        }    #T_01481e18_4793_11ea_a3b7_fbd801bcf579row3_col1 {\n",
       "            background-color:  #f7fbff;\n",
       "            color:  #000000;\n",
       "        }    #T_01481e18_4793_11ea_a3b7_fbd801bcf579row3_col2 {\n",
       "            background-color:  #f7fbff;\n",
       "            color:  #000000;\n",
       "        }    #T_01481e18_4793_11ea_a3b7_fbd801bcf579row3_col3 {\n",
       "            background-color:  #f7fbff;\n",
       "            color:  #000000;\n",
       "        }</style><table id=\"T_01481e18_4793_11ea_a3b7_fbd801bcf579\" ><thead>    <tr>        <th class=\"blank level0\" ></th>        <th class=\"col_heading level0 col0\" >perf_tr</th>        <th class=\"col_heading level0 col1\" >std_tr</th>        <th class=\"col_heading level0 col2\" >perf_te</th>        <th class=\"col_heading level0 col3\" >std_te</th>    </tr></thead><tbody>\n",
       "                <tr>\n",
       "                        <th id=\"T_01481e18_4793_11ea_a3b7_fbd801bcf579level0_row0\" class=\"row_heading level0 row0\" >RAW</th>\n",
       "                        <td id=\"T_01481e18_4793_11ea_a3b7_fbd801bcf579row0_col0\" class=\"data row0 col0\" >1</td>\n",
       "                        <td id=\"T_01481e18_4793_11ea_a3b7_fbd801bcf579row0_col1\" class=\"data row0 col1\" >0</td>\n",
       "                        <td id=\"T_01481e18_4793_11ea_a3b7_fbd801bcf579row0_col2\" class=\"data row0 col2\" >0.571887</td>\n",
       "                        <td id=\"T_01481e18_4793_11ea_a3b7_fbd801bcf579row0_col3\" class=\"data row0 col3\" >0.0282349</td>\n",
       "            </tr>\n",
       "            <tr>\n",
       "                        <th id=\"T_01481e18_4793_11ea_a3b7_fbd801bcf579level0_row1\" class=\"row_heading level0 row1\" >CROP</th>\n",
       "                        <td id=\"T_01481e18_4793_11ea_a3b7_fbd801bcf579row1_col0\" class=\"data row1 col0\" >1</td>\n",
       "                        <td id=\"T_01481e18_4793_11ea_a3b7_fbd801bcf579row1_col1\" class=\"data row1 col1\" >0</td>\n",
       "                        <td id=\"T_01481e18_4793_11ea_a3b7_fbd801bcf579row1_col2\" class=\"data row1 col2\" >0.747946</td>\n",
       "                        <td id=\"T_01481e18_4793_11ea_a3b7_fbd801bcf579row1_col3\" class=\"data row1 col3\" >0.0334551</td>\n",
       "            </tr>\n",
       "            <tr>\n",
       "                        <th id=\"T_01481e18_4793_11ea_a3b7_fbd801bcf579level0_row2\" class=\"row_heading level0 row2\" >RE</th>\n",
       "                        <td id=\"T_01481e18_4793_11ea_a3b7_fbd801bcf579row2_col0\" class=\"data row2 col0\" >1</td>\n",
       "                        <td id=\"T_01481e18_4793_11ea_a3b7_fbd801bcf579row2_col1\" class=\"data row2 col1\" >0</td>\n",
       "                        <td id=\"T_01481e18_4793_11ea_a3b7_fbd801bcf579row2_col2\" class=\"data row2 col2\" >0.642204</td>\n",
       "                        <td id=\"T_01481e18_4793_11ea_a3b7_fbd801bcf579row2_col3\" class=\"data row2 col3\" >0.0300118</td>\n",
       "            </tr>\n",
       "            <tr>\n",
       "                        <th id=\"T_01481e18_4793_11ea_a3b7_fbd801bcf579level0_row3\" class=\"row_heading level0 row3\" >CS</th>\n",
       "                        <td id=\"T_01481e18_4793_11ea_a3b7_fbd801bcf579row3_col0\" class=\"data row3 col0\" >1</td>\n",
       "                        <td id=\"T_01481e18_4793_11ea_a3b7_fbd801bcf579row3_col1\" class=\"data row3 col1\" >0</td>\n",
       "                        <td id=\"T_01481e18_4793_11ea_a3b7_fbd801bcf579row3_col2\" class=\"data row3 col2\" >0.546047</td>\n",
       "                        <td id=\"T_01481e18_4793_11ea_a3b7_fbd801bcf579row3_col3\" class=\"data row3 col3\" >0.0241897</td>\n",
       "            </tr>\n",
       "    </tbody></table>"
      ],
      "text/plain": [
       "<pandas.io.formats.style.Styler at 0x7fed138e3fd0>"
      ]
     },
     "execution_count": 16,
     "metadata": {},
     "output_type": "execute_result"
    }
   ],
   "source": [
    "# We give you this code, read it and try to understand it\n",
    "data_name = [os.path.basename(file)[:-9] for file in data_list]\n",
    "all_data_df = [pd.read_csv(file) for file in data_list]\n",
    "print('NO SCALING')\n",
    "result_noscaling = systematic_data_experiment(data_name, all_data_df, sklearn_model, sklearn_metric)\n",
    "result_noscaling.style.background_gradient(cmap='Blues')"
   ]
  },
  {
   "cell_type": "markdown",
   "metadata": {},
   "source": [
    "What do you observe by comparing the accuracy on training data and on test data?"
   ]
  },
  {
   "cell_type": "markdown",
   "metadata": {},
   "source": [
    "<div style=\"background:#FFFFAA\">\n",
    "    Here you need to do something!\n",
    "</div>\n",
    "<b>Compute all_scaled_data_df in a one-line formula. Imitate the code in the previous cell.</b> "
   ]
  },
  {
   "cell_type": "code",
   "execution_count": 17,
   "metadata": {},
   "outputs": [
    {
     "name": "stdout",
     "output_type": "stream",
     "text": [
      "WITH SCALING\n",
      "KNEIGHBORSCLASSIFIER\n"
     ]
    },
    {
     "data": {
      "text/html": [
       "<style  type=\"text/css\" >\n",
       "    #T_1dd1ff36_4793_11ea_a3b7_fbd801bcf579row0_col0 {\n",
       "            background-color:  #f7fbff;\n",
       "            color:  #000000;\n",
       "        }    #T_1dd1ff36_4793_11ea_a3b7_fbd801bcf579row0_col1 {\n",
       "            background-color:  #f7fbff;\n",
       "            color:  #000000;\n",
       "        }    #T_1dd1ff36_4793_11ea_a3b7_fbd801bcf579row0_col2 {\n",
       "            background-color:  #f7fbff;\n",
       "            color:  #000000;\n",
       "        }    #T_1dd1ff36_4793_11ea_a3b7_fbd801bcf579row0_col3 {\n",
       "            background-color:  #08306b;\n",
       "            color:  #f1f1f1;\n",
       "        }    #T_1dd1ff36_4793_11ea_a3b7_fbd801bcf579row1_col0 {\n",
       "            background-color:  #f7fbff;\n",
       "            color:  #000000;\n",
       "        }    #T_1dd1ff36_4793_11ea_a3b7_fbd801bcf579row1_col1 {\n",
       "            background-color:  #f7fbff;\n",
       "            color:  #000000;\n",
       "        }    #T_1dd1ff36_4793_11ea_a3b7_fbd801bcf579row1_col2 {\n",
       "            background-color:  #3888c1;\n",
       "            color:  #000000;\n",
       "        }    #T_1dd1ff36_4793_11ea_a3b7_fbd801bcf579row1_col3 {\n",
       "            background-color:  #c9ddf0;\n",
       "            color:  #000000;\n",
       "        }    #T_1dd1ff36_4793_11ea_a3b7_fbd801bcf579row2_col0 {\n",
       "            background-color:  #f7fbff;\n",
       "            color:  #000000;\n",
       "        }    #T_1dd1ff36_4793_11ea_a3b7_fbd801bcf579row2_col1 {\n",
       "            background-color:  #f7fbff;\n",
       "            color:  #000000;\n",
       "        }    #T_1dd1ff36_4793_11ea_a3b7_fbd801bcf579row2_col2 {\n",
       "            background-color:  #c4daee;\n",
       "            color:  #000000;\n",
       "        }    #T_1dd1ff36_4793_11ea_a3b7_fbd801bcf579row2_col3 {\n",
       "            background-color:  #f7fbff;\n",
       "            color:  #000000;\n",
       "        }    #T_1dd1ff36_4793_11ea_a3b7_fbd801bcf579row3_col0 {\n",
       "            background-color:  #f7fbff;\n",
       "            color:  #000000;\n",
       "        }    #T_1dd1ff36_4793_11ea_a3b7_fbd801bcf579row3_col1 {\n",
       "            background-color:  #f7fbff;\n",
       "            color:  #000000;\n",
       "        }    #T_1dd1ff36_4793_11ea_a3b7_fbd801bcf579row3_col2 {\n",
       "            background-color:  #08306b;\n",
       "            color:  #f1f1f1;\n",
       "        }    #T_1dd1ff36_4793_11ea_a3b7_fbd801bcf579row3_col3 {\n",
       "            background-color:  #e3eef8;\n",
       "            color:  #000000;\n",
       "        }</style><table id=\"T_1dd1ff36_4793_11ea_a3b7_fbd801bcf579\" ><thead>    <tr>        <th class=\"blank level0\" ></th>        <th class=\"col_heading level0 col0\" >perf_tr</th>        <th class=\"col_heading level0 col1\" >std_tr</th>        <th class=\"col_heading level0 col2\" >perf_te</th>        <th class=\"col_heading level0 col3\" >std_te</th>    </tr></thead><tbody>\n",
       "                <tr>\n",
       "                        <th id=\"T_1dd1ff36_4793_11ea_a3b7_fbd801bcf579level0_row0\" class=\"row_heading level0 row0\" >RAW</th>\n",
       "                        <td id=\"T_1dd1ff36_4793_11ea_a3b7_fbd801bcf579row0_col0\" class=\"data row0 col0\" >1</td>\n",
       "                        <td id=\"T_1dd1ff36_4793_11ea_a3b7_fbd801bcf579row0_col1\" class=\"data row0 col1\" >0</td>\n",
       "                        <td id=\"T_1dd1ff36_4793_11ea_a3b7_fbd801bcf579row0_col2\" class=\"data row0 col2\" >0.554434</td>\n",
       "                        <td id=\"T_1dd1ff36_4793_11ea_a3b7_fbd801bcf579row0_col3\" class=\"data row0 col3\" >0.0375432</td>\n",
       "            </tr>\n",
       "            <tr>\n",
       "                        <th id=\"T_1dd1ff36_4793_11ea_a3b7_fbd801bcf579level0_row1\" class=\"row_heading level0 row1\" >CROP</th>\n",
       "                        <td id=\"T_1dd1ff36_4793_11ea_a3b7_fbd801bcf579row1_col0\" class=\"data row1 col0\" >1</td>\n",
       "                        <td id=\"T_1dd1ff36_4793_11ea_a3b7_fbd801bcf579row1_col1\" class=\"data row1 col1\" >0</td>\n",
       "                        <td id=\"T_1dd1ff36_4793_11ea_a3b7_fbd801bcf579row1_col2\" class=\"data row1 col2\" >0.71234</td>\n",
       "                        <td id=\"T_1dd1ff36_4793_11ea_a3b7_fbd801bcf579row1_col3\" class=\"data row1 col3\" >0.0244602</td>\n",
       "            </tr>\n",
       "            <tr>\n",
       "                        <th id=\"T_1dd1ff36_4793_11ea_a3b7_fbd801bcf579level0_row2\" class=\"row_heading level0 row2\" >RE</th>\n",
       "                        <td id=\"T_1dd1ff36_4793_11ea_a3b7_fbd801bcf579row2_col0\" class=\"data row2 col0\" >1</td>\n",
       "                        <td id=\"T_1dd1ff36_4793_11ea_a3b7_fbd801bcf579row2_col1\" class=\"data row2 col1\" >0</td>\n",
       "                        <td id=\"T_1dd1ff36_4793_11ea_a3b7_fbd801bcf579row2_col2\" class=\"data row2 col2\" >0.61544</td>\n",
       "                        <td id=\"T_1dd1ff36_4793_11ea_a3b7_fbd801bcf579row2_col3\" class=\"data row2 col3\" >0.0204092</td>\n",
       "            </tr>\n",
       "            <tr>\n",
       "                        <th id=\"T_1dd1ff36_4793_11ea_a3b7_fbd801bcf579level0_row3\" class=\"row_heading level0 row3\" >CS</th>\n",
       "                        <td id=\"T_1dd1ff36_4793_11ea_a3b7_fbd801bcf579row3_col0\" class=\"data row3 col0\" >1</td>\n",
       "                        <td id=\"T_1dd1ff36_4793_11ea_a3b7_fbd801bcf579row3_col1\" class=\"data row3 col1\" >0</td>\n",
       "                        <td id=\"T_1dd1ff36_4793_11ea_a3b7_fbd801bcf579row3_col2\" class=\"data row3 col2\" >0.792288</td>\n",
       "                        <td id=\"T_1dd1ff36_4793_11ea_a3b7_fbd801bcf579row3_col3\" class=\"data row3 col3\" >0.0221641</td>\n",
       "            </tr>\n",
       "    </tbody></table>"
      ],
      "text/plain": [
       "<pandas.io.formats.style.Styler at 0x7fed11c1e550>"
      ]
     },
     "execution_count": 17,
     "metadata": {},
     "output_type": "execute_result"
    }
   ],
   "source": [
    "all_scaled_data_df = [standardize_df(df) for df in all_data_df] # CHANGE THIS!\n",
    "\n",
    "print('WITH SCALING')\n",
    "result_scaling = systematic_data_experiment(data_name, all_scaled_data_df, sklearn_model, sklearn_metric)\n",
    "result_scaling.style.background_gradient(cmap='Blues')"
   ]
  },
  {
   "cell_type": "code",
   "execution_count": 18,
   "metadata": {},
   "outputs": [
    {
     "data": {
      "text/html": [
       "<div>\n",
       "<style scoped>\n",
       "    .dataframe tbody tr th:only-of-type {\n",
       "        vertical-align: middle;\n",
       "    }\n",
       "\n",
       "    .dataframe tbody tr th {\n",
       "        vertical-align: top;\n",
       "    }\n",
       "\n",
       "    .dataframe thead th {\n",
       "        text-align: right;\n",
       "    }\n",
       "</style>\n",
       "<table border=\"1\" class=\"dataframe\">\n",
       "  <thead>\n",
       "    <tr style=\"text-align: right;\">\n",
       "      <th></th>\n",
       "      <th>SCALED</th>\n",
       "      <th>NOT SCALED</th>\n",
       "    </tr>\n",
       "  </thead>\n",
       "  <tbody>\n",
       "    <tr>\n",
       "      <td>RAW</td>\n",
       "      <td>0.554434</td>\n",
       "      <td>0.571887</td>\n",
       "    </tr>\n",
       "    <tr>\n",
       "      <td>CROP</td>\n",
       "      <td>0.712340</td>\n",
       "      <td>0.747946</td>\n",
       "    </tr>\n",
       "    <tr>\n",
       "      <td>RE</td>\n",
       "      <td>0.615440</td>\n",
       "      <td>0.642204</td>\n",
       "    </tr>\n",
       "    <tr>\n",
       "      <td>CS</td>\n",
       "      <td>0.792288</td>\n",
       "      <td>0.546047</td>\n",
       "    </tr>\n",
       "  </tbody>\n",
       "</table>\n",
       "</div>"
      ],
      "text/plain": [
       "        SCALED  NOT SCALED\n",
       "RAW   0.554434    0.571887\n",
       "CROP  0.712340    0.747946\n",
       "RE    0.615440    0.642204\n",
       "CS    0.792288    0.546047"
      ]
     },
     "execution_count": 18,
     "metadata": {},
     "output_type": "execute_result"
    }
   ],
   "source": [
    "# This is how to collect the test results in a single dataframe\n",
    "joint_results = pd.DataFrame()\n",
    "joint_results['SCALED'] = result_scaling.perf_te\n",
    "joint_results['NOT SCALED'] = result_noscaling.perf_te\n",
    "joint_results"
   ]
  },
  {
   "cell_type": "markdown",
   "metadata": {},
   "source": [
    "<div style=\"background:#FFFFAA\">\n",
    "    Here you need to do something!\n",
    "</div>\n",
    "<b>Put here the code to plot \"joint_results\" as a bar graph. Check the <a href=\"Check https://pandas.pydata.org/pandas-docs/stable/reference/api/pandas.DataFrame.plot.bar.html\"> documentation</a></b>."
   ]
  },
  {
   "cell_type": "code",
   "execution_count": 19,
   "metadata": {},
   "outputs": [
    {
     "data": {
      "text/plain": [
       "Text(0, 0.5, 'balanced_accuracy_score')"
      ]
     },
     "execution_count": 19,
     "metadata": {},
     "output_type": "execute_result"
    },
    {
     "data": {
      "image/png": "[encoded data removed]",
      "text/plain": [
       "<Figure size 432x288 with 1 Axes>"
      ]
     },
     "metadata": {
      "needs_background": "light"
     },
     "output_type": "display_data"
    }
   ],
   "source": [
    "joint_results.plot.bar()\n",
    "#joint_results.boxplot() # REPLACE THIS!\n",
    "plt.ylabel(sklearn_metric.__name__)"
   ]
  },
  {
   "cell_type": "markdown",
   "metadata": {},
   "source": [
    "<div style=\"background:#FFFFAA\">\n",
    "    Here you need to do something!\n",
    "</div>\n",
    "<b>Your final answers to question 3:</a></b> Does rescaling always help? In which case does it help most?"
   ]
  },
  {
   "cell_type": "code",
   "execution_count": 20,
   "metadata": {},
   "outputs": [
    {
     "name": "stdout",
     "output_type": "stream",
     "text": [
      "-1.3145198580879243\n",
      "-1.3145198580879243\n"
     ]
    },
    {
     "data": {
      "text/html": [
       "<div style=\"background:#00FF00\">CORRECT<br>:-)</div>"
      ],
      "text/plain": [
       "<IPython.core.display.HTML object>"
      ]
     },
     "metadata": {},
     "output_type": "display_data"
    }
   ],
   "source": [
    "# Put your answer to question 3 here\n",
    "rescaling_always_help = 0 # 0 for false, 1 for true\n",
    "varnum_rescaling_helps_most = -1 # num of var (0-based) for which perf. improve most after rescaling\n",
    "case_num_rescaling_helps_most = 2 # num of case (0-based) for which perf. improve most after rescaling\n",
    "\n",
    "# This is the checker code, keep it\n",
    "question = 3\n",
    "answer = (p_tr+s_tr+p_te+s_te)/10\n",
    "answer += joint_results.sum().sum()/10-rescaling_always_help-case_num_rescaling_helps_most\n",
    "score += check(answer, question)"
   ]
  },
  {
   "cell_type": "markdown",
   "metadata": {},
   "source": [
    "<span style=\"color:red\"> \n",
    "    <b>You can now fill `answer__04()` in answer.py</b>\n",
    "</span>\n"
   ]
  },
  {
   "cell_type": "markdown",
   "metadata": {},
   "source": [
    "<span style=\"color:red\"> \n",
    "    <b>You can now fill `answer__05()` in answer.py</b>\n",
    "</span>\n"
   ]
  },
  {
   "cell_type": "markdown",
   "metadata": {},
   "source": [
    "## Step 2: Identify the best model\n",
    "We are now ready to perform systematic experiments on various models. We will use the methods proposed in the variable `classifiers` of <a href=\"https://scikit-learn.org/stable/auto_examples/classification/plot_classifier_comparison.html\">these scikit-learn examples</a>, compare classifier performances on the dataset `CS_SCALED`:\n",
    "\n",
    "### Question 4: Overfitting and underfitting\n",
    "\n",
    "</b> There may be two reasons why a model performs poorly. It could either be <b>overfitting</b> or <b>underfitting</b> data. \n",
    "\n",
    "First you will perform these steps (with some help):\n",
    "\n",
    "* Create a variable `data_df` and assign to it the data frame of the scaled version of the CS dataset.\n",
    "* Create a variable `model_name` and a variable `model_list` containing the list of model names and the list of models (classifiers) from the <a href=\"https://scikit-learn.org/stable/auto_examples/classification/plot_classifier_comparison.html\">the scikit-learn examples</a> we pointed you to.\n",
    "* Call `systematic_model_experiment(data_df, model_name, model_list, sklearn_metric)` and display the results. \n",
    "* Find which method performs best. <b>Tip:</b> Use <a href=\"https://pandas.pydata.org/pandas-docs/stable/reference/api/pandas.Series.idxmax.html#pandas.Series.idxmax\">idxmax</a>.\n",
    "* Find which models have TEST performance UNDER THE MEDIAN test performance. The single out models with TRAINING performance UNDER THE MEDIAN and those with TRAINING performance OVER THE MEDIAN.\n",
    "\n",
    "Then answer those questions:\n",
    "* If the test performance is bad but the training performance is good, is the model under-fitting or over-fitting? \n",
    "* If both are bad, is the model is under-fitting or over-fitting? \n",
    "* Which models are over-fitted and which ones are under-fitted?"
   ]
  },
  {
   "cell_type": "markdown",
   "metadata": {},
   "source": [
    "<span style=\"color:red\"> \n",
    "    <b>You can now fill `answer__06()` in answer.py</b>\n",
    "</span>\n"
   ]
  },
  {
   "cell_type": "markdown",
   "metadata": {},
   "source": [
    "<span style=\"color:red\"> \n",
    "    <b>You can now fill `answer__07()` in answer.py</b>\n",
    "</span>\n"
   ]
  },
  {
   "cell_type": "markdown",
   "metadata": {},
   "source": [
    "<div style=\"background:#FFFFAA\">\n",
    "    Here you need to do something!\n",
    "</div>\n",
    "<b>Choose the correct dataset: CS representation, scaled data.</b>"
   ]
  },
  {
   "cell_type": "code",
   "execution_count": 21,
   "metadata": {},
   "outputs": [
    {
     "name": "stdout",
     "output_type": "stream",
     "text": [
      "(491, 3)\n"
     ]
    }
   ],
   "source": [
    "dataset_choice = 2 # Change that\n",
    "data_df = all_scaled_data_df[dataset_choice] # Change that\n",
    "\n",
    "print(data_df.shape)"
   ]
  },
  {
   "cell_type": "markdown",
   "metadata": {},
   "source": [
    "#### Classifier comparison\n",
    "We import a bunch of classifiers, inspired \n",
    "by <a href=\"https://scikit-learn.org/stable/auto_examples/classification/plot_classifier_comparison.html\">that list</a>."
   ]
  },
  {
   "cell_type": "code",
   "execution_count": 22,
   "metadata": {},
   "outputs": [],
   "source": [
    "from sklearn.neural_network import MLPClassifier\n",
    "from sklearn.neighbors import KNeighborsClassifier\n",
    "from sklearn.svm import SVC\n",
    "from sklearn.gaussian_process import GaussianProcessClassifier\n",
    "from sklearn.gaussian_process.kernels import RBF\n",
    "from sklearn.tree import DecisionTreeClassifier\n",
    "from sklearn.ensemble import RandomForestClassifier, AdaBoostClassifier\n",
    "from sklearn.naive_bayes import GaussianNB\n",
    "from sklearn.discriminant_analysis import QuadraticDiscriminantAnalysis\n",
    "\n",
    "model_name = [\"Nearest Neighbors\", \"Linear SVM\", \"RBF SVM\", \"Gaussian Process\",\n",
    "         \"Decision Tree\", \"Random Forest\", \"Neural Net\", \"AdaBoost\",\n",
    "         \"Naive Bayes\", \"QDA\"]\n",
    "model_list = [\n",
    "    KNeighborsClassifier(3),\n",
    "    SVC(kernel=\"linear\", C=0.025),\n",
    "    SVC(gamma=2, C=1),\n",
    "    GaussianProcessClassifier(1.0 * RBF(1.0)),\n",
    "    DecisionTreeClassifier(max_depth=10),\n",
    "    RandomForestClassifier(max_depth=10, n_estimators=10, max_features=1),\n",
    "    MLPClassifier(alpha=1, max_iter=1000),\n",
    "    AdaBoostClassifier(),\n",
    "    GaussianNB(),\n",
    "    QuadraticDiscriminantAnalysis()]"
   ]
  },
  {
   "cell_type": "markdown",
   "metadata": {},
   "source": [
    "#### Systematic experiments:\n",
    "We give you this code to make systematic experiments (run all models on the chosen representation). You may get a warning. What could explain it?"
   ]
  },
  {
   "cell_type": "code",
   "execution_count": 23,
   "metadata": {},
   "outputs": [
    {
     "data": {
      "text/html": [
       "<style  type=\"text/css\" >\n",
       "    #T_21d6977c_4793_11ea_a3b7_fbd801bcf579row0_col0 {\n",
       "            background-color:  #4695c8;\n",
       "            color:  #000000;\n",
       "        }    #T_21d6977c_4793_11ea_a3b7_fbd801bcf579row0_col1 {\n",
       "            background-color:  #abd0e6;\n",
       "            color:  #000000;\n",
       "        }    #T_21d6977c_4793_11ea_a3b7_fbd801bcf579row0_col2 {\n",
       "            background-color:  #3787c0;\n",
       "            color:  #000000;\n",
       "        }    #T_21d6977c_4793_11ea_a3b7_fbd801bcf579row0_col3 {\n",
       "            background-color:  #f7fbff;\n",
       "            color:  #000000;\n",
       "        }    #T_21d6977c_4793_11ea_a3b7_fbd801bcf579row1_col0 {\n",
       "            background-color:  #f7fbff;\n",
       "            color:  #000000;\n",
       "        }    #T_21d6977c_4793_11ea_a3b7_fbd801bcf579row1_col1 {\n",
       "            background-color:  #08306b;\n",
       "            color:  #f1f1f1;\n",
       "        }    #T_21d6977c_4793_11ea_a3b7_fbd801bcf579row1_col2 {\n",
       "            background-color:  #f7fbff;\n",
       "            color:  #000000;\n",
       "        }    #T_21d6977c_4793_11ea_a3b7_fbd801bcf579row1_col3 {\n",
       "            background-color:  #6caed6;\n",
       "            color:  #000000;\n",
       "        }    #T_21d6977c_4793_11ea_a3b7_fbd801bcf579row2_col0 {\n",
       "            background-color:  #8dc1dd;\n",
       "            color:  #000000;\n",
       "        }    #T_21d6977c_4793_11ea_a3b7_fbd801bcf579row2_col1 {\n",
       "            background-color:  #f7fbff;\n",
       "            color:  #000000;\n",
       "        }    #T_21d6977c_4793_11ea_a3b7_fbd801bcf579row2_col2 {\n",
       "            background-color:  #08306b;\n",
       "            color:  #f1f1f1;\n",
       "        }    #T_21d6977c_4793_11ea_a3b7_fbd801bcf579row2_col3 {\n",
       "            background-color:  #f7fbff;\n",
       "            color:  #000000;\n",
       "        }    #T_21d6977c_4793_11ea_a3b7_fbd801bcf579row3_col0 {\n",
       "            background-color:  #a3cce3;\n",
       "            color:  #000000;\n",
       "        }    #T_21d6977c_4793_11ea_a3b7_fbd801bcf579row3_col1 {\n",
       "            background-color:  #3787c0;\n",
       "            color:  #000000;\n",
       "        }    #T_21d6977c_4793_11ea_a3b7_fbd801bcf579row3_col2 {\n",
       "            background-color:  #08306b;\n",
       "            color:  #f1f1f1;\n",
       "        }    #T_21d6977c_4793_11ea_a3b7_fbd801bcf579row3_col3 {\n",
       "            background-color:  #f7fbff;\n",
       "            color:  #000000;\n",
       "        }    #T_21d6977c_4793_11ea_a3b7_fbd801bcf579row4_col0 {\n",
       "            background-color:  #08306b;\n",
       "            color:  #f1f1f1;\n",
       "        }    #T_21d6977c_4793_11ea_a3b7_fbd801bcf579row4_col1 {\n",
       "            background-color:  #3787c0;\n",
       "            color:  #000000;\n",
       "        }    #T_21d6977c_4793_11ea_a3b7_fbd801bcf579row4_col2 {\n",
       "            background-color:  #8dc1dd;\n",
       "            color:  #000000;\n",
       "        }    #T_21d6977c_4793_11ea_a3b7_fbd801bcf579row4_col3 {\n",
       "            background-color:  #6caed6;\n",
       "            color:  #000000;\n",
       "        }    #T_21d6977c_4793_11ea_a3b7_fbd801bcf579row5_col0 {\n",
       "            background-color:  #08306b;\n",
       "            color:  #f1f1f1;\n",
       "        }    #T_21d6977c_4793_11ea_a3b7_fbd801bcf579row5_col1 {\n",
       "            background-color:  #abd0e6;\n",
       "            color:  #000000;\n",
       "        }    #T_21d6977c_4793_11ea_a3b7_fbd801bcf579row5_col2 {\n",
       "            background-color:  #2070b4;\n",
       "            color:  #f1f1f1;\n",
       "        }    #T_21d6977c_4793_11ea_a3b7_fbd801bcf579row5_col3 {\n",
       "            background-color:  #6caed6;\n",
       "            color:  #000000;\n",
       "        }    #T_21d6977c_4793_11ea_a3b7_fbd801bcf579row6_col0 {\n",
       "            background-color:  #b4d3e9;\n",
       "            color:  #000000;\n",
       "        }    #T_21d6977c_4793_11ea_a3b7_fbd801bcf579row6_col1 {\n",
       "            background-color:  #abd0e6;\n",
       "            color:  #000000;\n",
       "        }    #T_21d6977c_4793_11ea_a3b7_fbd801bcf579row6_col2 {\n",
       "            background-color:  #08468b;\n",
       "            color:  #f1f1f1;\n",
       "        }    #T_21d6977c_4793_11ea_a3b7_fbd801bcf579row6_col3 {\n",
       "            background-color:  #f7fbff;\n",
       "            color:  #000000;\n",
       "        }    #T_21d6977c_4793_11ea_a3b7_fbd801bcf579row7_col0 {\n",
       "            background-color:  #3e8ec4;\n",
       "            color:  #000000;\n",
       "        }    #T_21d6977c_4793_11ea_a3b7_fbd801bcf579row7_col1 {\n",
       "            background-color:  #3787c0;\n",
       "            color:  #000000;\n",
       "        }    #T_21d6977c_4793_11ea_a3b7_fbd801bcf579row7_col2 {\n",
       "            background-color:  #4f9bcb;\n",
       "            color:  #000000;\n",
       "        }    #T_21d6977c_4793_11ea_a3b7_fbd801bcf579row7_col3 {\n",
       "            background-color:  #08306b;\n",
       "            color:  #f1f1f1;\n",
       "        }    #T_21d6977c_4793_11ea_a3b7_fbd801bcf579row8_col0 {\n",
       "            background-color:  #d6e6f4;\n",
       "            color:  #000000;\n",
       "        }    #T_21d6977c_4793_11ea_a3b7_fbd801bcf579row8_col1 {\n",
       "            background-color:  #3787c0;\n",
       "            color:  #000000;\n",
       "        }    #T_21d6977c_4793_11ea_a3b7_fbd801bcf579row8_col2 {\n",
       "            background-color:  #6aaed6;\n",
       "            color:  #000000;\n",
       "        }    #T_21d6977c_4793_11ea_a3b7_fbd801bcf579row8_col3 {\n",
       "            background-color:  #6caed6;\n",
       "            color:  #000000;\n",
       "        }    #T_21d6977c_4793_11ea_a3b7_fbd801bcf579row9_col0 {\n",
       "            background-color:  #e1edf8;\n",
       "            color:  #000000;\n",
       "        }    #T_21d6977c_4793_11ea_a3b7_fbd801bcf579row9_col1 {\n",
       "            background-color:  #3787c0;\n",
       "            color:  #000000;\n",
       "        }    #T_21d6977c_4793_11ea_a3b7_fbd801bcf579row9_col2 {\n",
       "            background-color:  #8dc1dd;\n",
       "            color:  #000000;\n",
       "        }    #T_21d6977c_4793_11ea_a3b7_fbd801bcf579row9_col3 {\n",
       "            background-color:  #6caed6;\n",
       "            color:  #000000;\n",
       "        }</style><table id=\"T_21d6977c_4793_11ea_a3b7_fbd801bcf579\" ><thead>    <tr>        <th class=\"blank level0\" ></th>        <th class=\"col_heading level0 col0\" >perf_tr</th>        <th class=\"col_heading level0 col1\" >std_tr</th>        <th class=\"col_heading level0 col2\" >perf_te</th>        <th class=\"col_heading level0 col3\" >std_te</th>    </tr></thead><tbody>\n",
       "                <tr>\n",
       "                        <th id=\"T_21d6977c_4793_11ea_a3b7_fbd801bcf579level0_row0\" class=\"row_heading level0 row0\" >Nearest Neighbors</th>\n",
       "                        <td id=\"T_21d6977c_4793_11ea_a3b7_fbd801bcf579row0_col0\" class=\"data row0 col0\" >0.81</td>\n",
       "                        <td id=\"T_21d6977c_4793_11ea_a3b7_fbd801bcf579row0_col1\" class=\"data row0 col1\" >0.02</td>\n",
       "                        <td id=\"T_21d6977c_4793_11ea_a3b7_fbd801bcf579row0_col2\" class=\"data row0 col2\" >0.66</td>\n",
       "                        <td id=\"T_21d6977c_4793_11ea_a3b7_fbd801bcf579row0_col3\" class=\"data row0 col3\" >0.02</td>\n",
       "            </tr>\n",
       "            <tr>\n",
       "                        <th id=\"T_21d6977c_4793_11ea_a3b7_fbd801bcf579level0_row1\" class=\"row_heading level0 row1\" >Linear SVM</th>\n",
       "                        <td id=\"T_21d6977c_4793_11ea_a3b7_fbd801bcf579row1_col0\" class=\"data row1 col0\" >0.59</td>\n",
       "                        <td id=\"T_21d6977c_4793_11ea_a3b7_fbd801bcf579row1_col1\" class=\"data row1 col1\" >0.04</td>\n",
       "                        <td id=\"T_21d6977c_4793_11ea_a3b7_fbd801bcf579row1_col2\" class=\"data row1 col2\" >0.58</td>\n",
       "                        <td id=\"T_21d6977c_4793_11ea_a3b7_fbd801bcf579row1_col3\" class=\"data row1 col3\" >0.03</td>\n",
       "            </tr>\n",
       "            <tr>\n",
       "                        <th id=\"T_21d6977c_4793_11ea_a3b7_fbd801bcf579level0_row2\" class=\"row_heading level0 row2\" >RBF SVM</th>\n",
       "                        <td id=\"T_21d6977c_4793_11ea_a3b7_fbd801bcf579row2_col0\" class=\"data row2 col0\" >0.74</td>\n",
       "                        <td id=\"T_21d6977c_4793_11ea_a3b7_fbd801bcf579row2_col1\" class=\"data row2 col1\" >0.01</td>\n",
       "                        <td id=\"T_21d6977c_4793_11ea_a3b7_fbd801bcf579row2_col2\" class=\"data row2 col2\" >0.7</td>\n",
       "                        <td id=\"T_21d6977c_4793_11ea_a3b7_fbd801bcf579row2_col3\" class=\"data row2 col3\" >0.02</td>\n",
       "            </tr>\n",
       "            <tr>\n",
       "                        <th id=\"T_21d6977c_4793_11ea_a3b7_fbd801bcf579level0_row3\" class=\"row_heading level0 row3\" >Gaussian Process</th>\n",
       "                        <td id=\"T_21d6977c_4793_11ea_a3b7_fbd801bcf579row3_col0\" class=\"data row3 col0\" >0.72</td>\n",
       "                        <td id=\"T_21d6977c_4793_11ea_a3b7_fbd801bcf579row3_col1\" class=\"data row3 col1\" >0.03</td>\n",
       "                        <td id=\"T_21d6977c_4793_11ea_a3b7_fbd801bcf579row3_col2\" class=\"data row3 col2\" >0.7</td>\n",
       "                        <td id=\"T_21d6977c_4793_11ea_a3b7_fbd801bcf579row3_col3\" class=\"data row3 col3\" >0.02</td>\n",
       "            </tr>\n",
       "            <tr>\n",
       "                        <th id=\"T_21d6977c_4793_11ea_a3b7_fbd801bcf579level0_row4\" class=\"row_heading level0 row4\" >Decision Tree</th>\n",
       "                        <td id=\"T_21d6977c_4793_11ea_a3b7_fbd801bcf579row4_col0\" class=\"data row4 col0\" >0.95</td>\n",
       "                        <td id=\"T_21d6977c_4793_11ea_a3b7_fbd801bcf579row4_col1\" class=\"data row4 col1\" >0.03</td>\n",
       "                        <td id=\"T_21d6977c_4793_11ea_a3b7_fbd801bcf579row4_col2\" class=\"data row4 col2\" >0.63</td>\n",
       "                        <td id=\"T_21d6977c_4793_11ea_a3b7_fbd801bcf579row4_col3\" class=\"data row4 col3\" >0.03</td>\n",
       "            </tr>\n",
       "            <tr>\n",
       "                        <th id=\"T_21d6977c_4793_11ea_a3b7_fbd801bcf579level0_row5\" class=\"row_heading level0 row5\" >Random Forest</th>\n",
       "                        <td id=\"T_21d6977c_4793_11ea_a3b7_fbd801bcf579row5_col0\" class=\"data row5 col0\" >0.95</td>\n",
       "                        <td id=\"T_21d6977c_4793_11ea_a3b7_fbd801bcf579row5_col1\" class=\"data row5 col1\" >0.02</td>\n",
       "                        <td id=\"T_21d6977c_4793_11ea_a3b7_fbd801bcf579row5_col2\" class=\"data row5 col2\" >0.67</td>\n",
       "                        <td id=\"T_21d6977c_4793_11ea_a3b7_fbd801bcf579row5_col3\" class=\"data row5 col3\" >0.03</td>\n",
       "            </tr>\n",
       "            <tr>\n",
       "                        <th id=\"T_21d6977c_4793_11ea_a3b7_fbd801bcf579level0_row6\" class=\"row_heading level0 row6\" >Neural Net</th>\n",
       "                        <td id=\"T_21d6977c_4793_11ea_a3b7_fbd801bcf579row6_col0\" class=\"data row6 col0\" >0.7</td>\n",
       "                        <td id=\"T_21d6977c_4793_11ea_a3b7_fbd801bcf579row6_col1\" class=\"data row6 col1\" >0.02</td>\n",
       "                        <td id=\"T_21d6977c_4793_11ea_a3b7_fbd801bcf579row6_col2\" class=\"data row6 col2\" >0.69</td>\n",
       "                        <td id=\"T_21d6977c_4793_11ea_a3b7_fbd801bcf579row6_col3\" class=\"data row6 col3\" >0.02</td>\n",
       "            </tr>\n",
       "            <tr>\n",
       "                        <th id=\"T_21d6977c_4793_11ea_a3b7_fbd801bcf579level0_row7\" class=\"row_heading level0 row7\" >AdaBoost</th>\n",
       "                        <td id=\"T_21d6977c_4793_11ea_a3b7_fbd801bcf579row7_col0\" class=\"data row7 col0\" >0.82</td>\n",
       "                        <td id=\"T_21d6977c_4793_11ea_a3b7_fbd801bcf579row7_col1\" class=\"data row7 col1\" >0.03</td>\n",
       "                        <td id=\"T_21d6977c_4793_11ea_a3b7_fbd801bcf579row7_col2\" class=\"data row7 col2\" >0.65</td>\n",
       "                        <td id=\"T_21d6977c_4793_11ea_a3b7_fbd801bcf579row7_col3\" class=\"data row7 col3\" >0.04</td>\n",
       "            </tr>\n",
       "            <tr>\n",
       "                        <th id=\"T_21d6977c_4793_11ea_a3b7_fbd801bcf579level0_row8\" class=\"row_heading level0 row8\" >Naive Bayes</th>\n",
       "                        <td id=\"T_21d6977c_4793_11ea_a3b7_fbd801bcf579row8_col0\" class=\"data row8 col0\" >0.65</td>\n",
       "                        <td id=\"T_21d6977c_4793_11ea_a3b7_fbd801bcf579row8_col1\" class=\"data row8 col1\" >0.03</td>\n",
       "                        <td id=\"T_21d6977c_4793_11ea_a3b7_fbd801bcf579row8_col2\" class=\"data row8 col2\" >0.64</td>\n",
       "                        <td id=\"T_21d6977c_4793_11ea_a3b7_fbd801bcf579row8_col3\" class=\"data row8 col3\" >0.03</td>\n",
       "            </tr>\n",
       "            <tr>\n",
       "                        <th id=\"T_21d6977c_4793_11ea_a3b7_fbd801bcf579level0_row9\" class=\"row_heading level0 row9\" >QDA</th>\n",
       "                        <td id=\"T_21d6977c_4793_11ea_a3b7_fbd801bcf579row9_col0\" class=\"data row9 col0\" >0.63</td>\n",
       "                        <td id=\"T_21d6977c_4793_11ea_a3b7_fbd801bcf579row9_col1\" class=\"data row9 col1\" >0.03</td>\n",
       "                        <td id=\"T_21d6977c_4793_11ea_a3b7_fbd801bcf579row9_col2\" class=\"data row9 col2\" >0.63</td>\n",
       "                        <td id=\"T_21d6977c_4793_11ea_a3b7_fbd801bcf579row9_col3\" class=\"data row9 col3\" >0.03</td>\n",
       "            </tr>\n",
       "    </tbody></table>"
      ],
      "text/plain": [
       "<pandas.io.formats.style.Styler at 0x7fed167ef490>"
      ]
     },
     "execution_count": 23,
     "metadata": {},
     "output_type": "execute_result"
    }
   ],
   "source": [
    "compar_results = systematic_model_experiment(data_df, model_name, model_list, sklearn_metric)\n",
    "compar_results.round(2).style.background_gradient(cmap='Blues')"
   ]
  },
  {
   "cell_type": "markdown",
   "metadata": {},
   "source": [
    "<div style=\"background:#FFFFAA\">\n",
    "    Here you need to do something!\n",
    "</div>\n",
    "<b>Find the method performing best on test data.</b>"
   ]
  },
  {
   "cell_type": "code",
   "execution_count": 24,
   "metadata": {},
   "outputs": [
    {
     "name": "stdout",
     "output_type": "stream",
     "text": [
      "Best method: Gaussian Process\n"
     ]
    }
   ],
   "source": [
    "# Find the method performing best on test data\n",
    "best_method = compar_results.perf_te.idxmax() # REPLACE THIS; try not to just do this by hand, apply idxmax to the series perf_te\n",
    "\n",
    "print(\"Best method: {}\".format(best_method))"
   ]
  },
  {
   "cell_type": "markdown",
   "metadata": {},
   "source": [
    "#### Over-fitting and under-fitting\n",
    "There may be two reasons why a model performs poorly. It could either be <b>over-fitting</b> or <b>under-fitting</b> data. Under-fitting means that the model is not powerful enough to even learn the training data while over-fitting means that the model is so powerful that it can learn super-well the training data, but it might not generalize well to new test data.\n",
    "\n",
    "Of the models performing poorly (having TEST performance UNDER THE MEDIAN test performance), we highlight:\n",
    "* models with TRAINING performance UNDER THE MEDIAN training performance (<b>under-fitted</b>)\n",
    "* models with TRAINING performance OVER THE MEDIAN (<b>over-fitted</b>)"
   ]
  },
  {
   "cell_type": "code",
   "execution_count": 25,
   "metadata": {},
   "outputs": [
    {
     "data": {
      "text/html": [
       "<style  type=\"text/css\" >\n",
       "    #T_21e654be_4793_11ea_a3b7_fbd801bcf579row0_col0 {\n",
       "            background-color:  yellow;\n",
       "        }    #T_21e654be_4793_11ea_a3b7_fbd801bcf579row0_col2 {\n",
       "            background-color:  yellow;\n",
       "        }    #T_21e654be_4793_11ea_a3b7_fbd801bcf579row1_col1 {\n",
       "            background-color:  yellow;\n",
       "        }    #T_21e654be_4793_11ea_a3b7_fbd801bcf579row1_col3 {\n",
       "            background-color:  yellow;\n",
       "        }    #T_21e654be_4793_11ea_a3b7_fbd801bcf579row1_col5 {\n",
       "            background-color:  yellow;\n",
       "        }    #T_21e654be_4793_11ea_a3b7_fbd801bcf579row2_col0 {\n",
       "            background-color:  yellow;\n",
       "        }    #T_21e654be_4793_11ea_a3b7_fbd801bcf579row2_col2 {\n",
       "            background-color:  yellow;\n",
       "        }    #T_21e654be_4793_11ea_a3b7_fbd801bcf579row3_col1 {\n",
       "            background-color:  yellow;\n",
       "        }    #T_21e654be_4793_11ea_a3b7_fbd801bcf579row3_col2 {\n",
       "            background-color:  yellow;\n",
       "        }    #T_21e654be_4793_11ea_a3b7_fbd801bcf579row4_col0 {\n",
       "            background-color:  yellow;\n",
       "        }    #T_21e654be_4793_11ea_a3b7_fbd801bcf579row4_col1 {\n",
       "            background-color:  yellow;\n",
       "        }    #T_21e654be_4793_11ea_a3b7_fbd801bcf579row4_col3 {\n",
       "            background-color:  yellow;\n",
       "        }    #T_21e654be_4793_11ea_a3b7_fbd801bcf579row4_col4 {\n",
       "            background-color:  yellow;\n",
       "        }    #T_21e654be_4793_11ea_a3b7_fbd801bcf579row5_col0 {\n",
       "            background-color:  yellow;\n",
       "        }    #T_21e654be_4793_11ea_a3b7_fbd801bcf579row5_col2 {\n",
       "            background-color:  yellow;\n",
       "        }    #T_21e654be_4793_11ea_a3b7_fbd801bcf579row5_col3 {\n",
       "            background-color:  yellow;\n",
       "        }    #T_21e654be_4793_11ea_a3b7_fbd801bcf579row6_col2 {\n",
       "            background-color:  yellow;\n",
       "        }    #T_21e654be_4793_11ea_a3b7_fbd801bcf579row7_col0 {\n",
       "            background-color:  yellow;\n",
       "        }    #T_21e654be_4793_11ea_a3b7_fbd801bcf579row7_col1 {\n",
       "            background-color:  yellow;\n",
       "        }    #T_21e654be_4793_11ea_a3b7_fbd801bcf579row7_col3 {\n",
       "            background-color:  yellow;\n",
       "        }    #T_21e654be_4793_11ea_a3b7_fbd801bcf579row7_col4 {\n",
       "            background-color:  yellow;\n",
       "        }    #T_21e654be_4793_11ea_a3b7_fbd801bcf579row8_col1 {\n",
       "            background-color:  yellow;\n",
       "        }    #T_21e654be_4793_11ea_a3b7_fbd801bcf579row8_col3 {\n",
       "            background-color:  yellow;\n",
       "        }    #T_21e654be_4793_11ea_a3b7_fbd801bcf579row8_col5 {\n",
       "            background-color:  yellow;\n",
       "        }    #T_21e654be_4793_11ea_a3b7_fbd801bcf579row9_col5 {\n",
       "            background-color:  yellow;\n",
       "        }</style><table id=\"T_21e654be_4793_11ea_a3b7_fbd801bcf579\" ><thead>    <tr>        <th class=\"blank level0\" ></th>        <th class=\"col_heading level0 col0\" >perf_tr</th>        <th class=\"col_heading level0 col1\" >std_tr</th>        <th class=\"col_heading level0 col2\" >perf_te</th>        <th class=\"col_heading level0 col3\" >std_te</th>        <th class=\"col_heading level0 col4\" >Overfitted</th>        <th class=\"col_heading level0 col5\" >Underfitted</th>    </tr></thead><tbody>\n",
       "                <tr>\n",
       "                        <th id=\"T_21e654be_4793_11ea_a3b7_fbd801bcf579level0_row0\" class=\"row_heading level0 row0\" >Nearest Neighbors</th>\n",
       "                        <td id=\"T_21e654be_4793_11ea_a3b7_fbd801bcf579row0_col0\" class=\"data row0 col0\" >0.809551</td>\n",
       "                        <td id=\"T_21e654be_4793_11ea_a3b7_fbd801bcf579row0_col1\" class=\"data row0 col1\" >0.0171257</td>\n",
       "                        <td id=\"T_21e654be_4793_11ea_a3b7_fbd801bcf579row0_col2\" class=\"data row0 col2\" >0.655397</td>\n",
       "                        <td id=\"T_21e654be_4793_11ea_a3b7_fbd801bcf579row0_col3\" class=\"data row0 col3\" >0.0211971</td>\n",
       "                        <td id=\"T_21e654be_4793_11ea_a3b7_fbd801bcf579row0_col4\" class=\"data row0 col4\" >False</td>\n",
       "                        <td id=\"T_21e654be_4793_11ea_a3b7_fbd801bcf579row0_col5\" class=\"data row0 col5\" >False</td>\n",
       "            </tr>\n",
       "            <tr>\n",
       "                        <th id=\"T_21e654be_4793_11ea_a3b7_fbd801bcf579level0_row1\" class=\"row_heading level0 row1\" >Linear SVM</th>\n",
       "                        <td id=\"T_21e654be_4793_11ea_a3b7_fbd801bcf579row1_col0\" class=\"data row1 col0\" >0.590422</td>\n",
       "                        <td id=\"T_21e654be_4793_11ea_a3b7_fbd801bcf579row1_col1\" class=\"data row1 col1\" >0.038265</td>\n",
       "                        <td id=\"T_21e654be_4793_11ea_a3b7_fbd801bcf579row1_col2\" class=\"data row1 col2\" >0.58143</td>\n",
       "                        <td id=\"T_21e654be_4793_11ea_a3b7_fbd801bcf579row1_col3\" class=\"data row1 col3\" >0.0274968</td>\n",
       "                        <td id=\"T_21e654be_4793_11ea_a3b7_fbd801bcf579row1_col4\" class=\"data row1 col4\" >False</td>\n",
       "                        <td id=\"T_21e654be_4793_11ea_a3b7_fbd801bcf579row1_col5\" class=\"data row1 col5\" >True</td>\n",
       "            </tr>\n",
       "            <tr>\n",
       "                        <th id=\"T_21e654be_4793_11ea_a3b7_fbd801bcf579level0_row2\" class=\"row_heading level0 row2\" >RBF SVM</th>\n",
       "                        <td id=\"T_21e654be_4793_11ea_a3b7_fbd801bcf579row2_col0\" class=\"data row2 col0\" >0.735645</td>\n",
       "                        <td id=\"T_21e654be_4793_11ea_a3b7_fbd801bcf579row2_col1\" class=\"data row2 col1\" >0.0147986</td>\n",
       "                        <td id=\"T_21e654be_4793_11ea_a3b7_fbd801bcf579row2_col2\" class=\"data row2 col2\" >0.702062</td>\n",
       "                        <td id=\"T_21e654be_4793_11ea_a3b7_fbd801bcf579row2_col3\" class=\"data row2 col3\" >0.0218519</td>\n",
       "                        <td id=\"T_21e654be_4793_11ea_a3b7_fbd801bcf579row2_col4\" class=\"data row2 col4\" >False</td>\n",
       "                        <td id=\"T_21e654be_4793_11ea_a3b7_fbd801bcf579row2_col5\" class=\"data row2 col5\" >False</td>\n",
       "            </tr>\n",
       "            <tr>\n",
       "                        <th id=\"T_21e654be_4793_11ea_a3b7_fbd801bcf579level0_row3\" class=\"row_heading level0 row3\" >Gaussian Process</th>\n",
       "                        <td id=\"T_21e654be_4793_11ea_a3b7_fbd801bcf579row3_col0\" class=\"data row3 col0\" >0.716208</td>\n",
       "                        <td id=\"T_21e654be_4793_11ea_a3b7_fbd801bcf579row3_col1\" class=\"data row3 col1\" >0.0270806</td>\n",
       "                        <td id=\"T_21e654be_4793_11ea_a3b7_fbd801bcf579row3_col2\" class=\"data row3 col2\" >0.704893</td>\n",
       "                        <td id=\"T_21e654be_4793_11ea_a3b7_fbd801bcf579row3_col3\" class=\"data row3 col3\" >0.0186212</td>\n",
       "                        <td id=\"T_21e654be_4793_11ea_a3b7_fbd801bcf579row3_col4\" class=\"data row3 col4\" >False</td>\n",
       "                        <td id=\"T_21e654be_4793_11ea_a3b7_fbd801bcf579row3_col5\" class=\"data row3 col5\" >False</td>\n",
       "            </tr>\n",
       "            <tr>\n",
       "                        <th id=\"T_21e654be_4793_11ea_a3b7_fbd801bcf579level0_row4\" class=\"row_heading level0 row4\" >Decision Tree</th>\n",
       "                        <td id=\"T_21e654be_4793_11ea_a3b7_fbd801bcf579row4_col0\" class=\"data row4 col0\" >0.954015</td>\n",
       "                        <td id=\"T_21e654be_4793_11ea_a3b7_fbd801bcf579row4_col1\" class=\"data row4 col1\" >0.0298484</td>\n",
       "                        <td id=\"T_21e654be_4793_11ea_a3b7_fbd801bcf579row4_col2\" class=\"data row4 col2\" >0.629853</td>\n",
       "                        <td id=\"T_21e654be_4793_11ea_a3b7_fbd801bcf579row4_col3\" class=\"data row4 col3\" >0.0297438</td>\n",
       "                        <td id=\"T_21e654be_4793_11ea_a3b7_fbd801bcf579row4_col4\" class=\"data row4 col4\" >True</td>\n",
       "                        <td id=\"T_21e654be_4793_11ea_a3b7_fbd801bcf579row4_col5\" class=\"data row4 col5\" >False</td>\n",
       "            </tr>\n",
       "            <tr>\n",
       "                        <th id=\"T_21e654be_4793_11ea_a3b7_fbd801bcf579level0_row5\" class=\"row_heading level0 row5\" >Random Forest</th>\n",
       "                        <td id=\"T_21e654be_4793_11ea_a3b7_fbd801bcf579row5_col0\" class=\"data row5 col0\" >0.950968</td>\n",
       "                        <td id=\"T_21e654be_4793_11ea_a3b7_fbd801bcf579row5_col1\" class=\"data row5 col1\" >0.0190667</td>\n",
       "                        <td id=\"T_21e654be_4793_11ea_a3b7_fbd801bcf579row5_col2\" class=\"data row5 col2\" >0.671246</td>\n",
       "                        <td id=\"T_21e654be_4793_11ea_a3b7_fbd801bcf579row5_col3\" class=\"data row5 col3\" >0.0270585</td>\n",
       "                        <td id=\"T_21e654be_4793_11ea_a3b7_fbd801bcf579row5_col4\" class=\"data row5 col4\" >False</td>\n",
       "                        <td id=\"T_21e654be_4793_11ea_a3b7_fbd801bcf579row5_col5\" class=\"data row5 col5\" >False</td>\n",
       "            </tr>\n",
       "            <tr>\n",
       "                        <th id=\"T_21e654be_4793_11ea_a3b7_fbd801bcf579level0_row6\" class=\"row_heading level0 row6\" >Neural Net</th>\n",
       "                        <td id=\"T_21e654be_4793_11ea_a3b7_fbd801bcf579row6_col0\" class=\"data row6 col0\" >0.700568</td>\n",
       "                        <td id=\"T_21e654be_4793_11ea_a3b7_fbd801bcf579row6_col1\" class=\"data row6 col1\" >0.0227227</td>\n",
       "                        <td id=\"T_21e654be_4793_11ea_a3b7_fbd801bcf579row6_col2\" class=\"data row6 col2\" >0.6925</td>\n",
       "                        <td id=\"T_21e654be_4793_11ea_a3b7_fbd801bcf579row6_col3\" class=\"data row6 col3\" >0.0171676</td>\n",
       "                        <td id=\"T_21e654be_4793_11ea_a3b7_fbd801bcf579row6_col4\" class=\"data row6 col4\" >False</td>\n",
       "                        <td id=\"T_21e654be_4793_11ea_a3b7_fbd801bcf579row6_col5\" class=\"data row6 col5\" >False</td>\n",
       "            </tr>\n",
       "            <tr>\n",
       "                        <th id=\"T_21e654be_4793_11ea_a3b7_fbd801bcf579level0_row7\" class=\"row_heading level0 row7\" >AdaBoost</th>\n",
       "                        <td id=\"T_21e654be_4793_11ea_a3b7_fbd801bcf579row7_col0\" class=\"data row7 col0\" >0.816803</td>\n",
       "                        <td id=\"T_21e654be_4793_11ea_a3b7_fbd801bcf579row7_col1\" class=\"data row7 col1\" >0.0293172</td>\n",
       "                        <td id=\"T_21e654be_4793_11ea_a3b7_fbd801bcf579row7_col2\" class=\"data row7 col2\" >0.654904</td>\n",
       "                        <td id=\"T_21e654be_4793_11ea_a3b7_fbd801bcf579row7_col3\" class=\"data row7 col3\" >0.0369074</td>\n",
       "                        <td id=\"T_21e654be_4793_11ea_a3b7_fbd801bcf579row7_col4\" class=\"data row7 col4\" >True</td>\n",
       "                        <td id=\"T_21e654be_4793_11ea_a3b7_fbd801bcf579row7_col5\" class=\"data row7 col5\" >False</td>\n",
       "            </tr>\n",
       "            <tr>\n",
       "                        <th id=\"T_21e654be_4793_11ea_a3b7_fbd801bcf579level0_row8\" class=\"row_heading level0 row8\" >Naive Bayes</th>\n",
       "                        <td id=\"T_21e654be_4793_11ea_a3b7_fbd801bcf579row8_col0\" class=\"data row8 col0\" >0.647491</td>\n",
       "                        <td id=\"T_21e654be_4793_11ea_a3b7_fbd801bcf579row8_col1\" class=\"data row8 col1\" >0.0285824</td>\n",
       "                        <td id=\"T_21e654be_4793_11ea_a3b7_fbd801bcf579row8_col2\" class=\"data row8 col2\" >0.64369</td>\n",
       "                        <td id=\"T_21e654be_4793_11ea_a3b7_fbd801bcf579row8_col3\" class=\"data row8 col3\" >0.0287228</td>\n",
       "                        <td id=\"T_21e654be_4793_11ea_a3b7_fbd801bcf579row8_col4\" class=\"data row8 col4\" >False</td>\n",
       "                        <td id=\"T_21e654be_4793_11ea_a3b7_fbd801bcf579row8_col5\" class=\"data row8 col5\" >True</td>\n",
       "            </tr>\n",
       "            <tr>\n",
       "                        <th id=\"T_21e654be_4793_11ea_a3b7_fbd801bcf579level0_row9\" class=\"row_heading level0 row9\" >QDA</th>\n",
       "                        <td id=\"T_21e654be_4793_11ea_a3b7_fbd801bcf579row9_col0\" class=\"data row9 col0\" >0.633144</td>\n",
       "                        <td id=\"T_21e654be_4793_11ea_a3b7_fbd801bcf579row9_col1\" class=\"data row9 col1\" >0.0267149</td>\n",
       "                        <td id=\"T_21e654be_4793_11ea_a3b7_fbd801bcf579row9_col2\" class=\"data row9 col2\" >0.627996</td>\n",
       "                        <td id=\"T_21e654be_4793_11ea_a3b7_fbd801bcf579row9_col3\" class=\"data row9 col3\" >0.0265217</td>\n",
       "                        <td id=\"T_21e654be_4793_11ea_a3b7_fbd801bcf579row9_col4\" class=\"data row9 col4\" >False</td>\n",
       "                        <td id=\"T_21e654be_4793_11ea_a3b7_fbd801bcf579row9_col5\" class=\"data row9 col5\" >True</td>\n",
       "            </tr>\n",
       "    </tbody></table>"
      ],
      "text/plain": [
       "<pandas.io.formats.style.Styler at 0x7fed11bebd50>"
      ]
     },
     "execution_count": 25,
     "metadata": {},
     "output_type": "execute_result"
    }
   ],
   "source": [
    "# We give you this code, check it in utilities.py of use ??analyze_model_experiments\n",
    "\n",
    "??analyze_model_experiments\n",
    "\n",
    "analyze_model_experiments(compar_results)"
   ]
  },
  {
   "cell_type": "markdown",
   "metadata": {},
   "source": [
    "#### Bar graph comparing  results"
   ]
  },
  {
   "cell_type": "code",
   "execution_count": 26,
   "metadata": {},
   "outputs": [
    {
     "data": {
      "text/plain": [
       "Text(0, 0.5, 'balanced_accuracy_score')"
      ]
     },
     "execution_count": 26,
     "metadata": {},
     "output_type": "execute_result"
    },
    {
     "data": {
      "image/png": "[encoded data removed]",
      "text/plain": [
       "<Figure size 432x288 with 1 Axes>"
      ]
     },
     "metadata": {
      "needs_background": "light"
     },
     "output_type": "display_data"
    }
   ],
   "source": [
    "compar_results[['perf_tr', 'perf_te']].plot.bar()\n",
    "plt.ylim(0.5, 1)\n",
    "plt.ylabel(sklearn_metric.__name__)"
   ]
  },
  {
   "cell_type": "markdown",
   "metadata": {},
   "source": [
    "<div style=\"background:#FFFFAA\">\n",
    "    Here you need to do something!\n",
    "</div>\n",
    "<b>Your final answers to question 4:</a> </b>Which methods overfits or underfit?</b>"
   ]
  },
  {
   "cell_type": "code",
   "execution_count": 27,
   "metadata": {},
   "outputs": [
    {
     "name": "stdout",
     "output_type": "stream",
     "text": [
      "Over_fitted models:\n",
      "['RBF SVM', 'Decision Tree', 'Random Forest']\n",
      "Under_fitted models:\n",
      "['Linear SVM', 'Naive Bayes']\n",
      "6\n",
      "3\n"
     ]
    },
    {
     "data": {
      "text/html": [
       "<div style=\"background:#FF0000\">BOOOOH<br>:-(</div>"
      ],
      "text/plain": [
       "<IPython.core.display.HTML object>"
      ]
     },
     "metadata": {},
     "output_type": "display_data"
    }
   ],
   "source": [
    "# Put your answer to question 4 here\n",
    "\n",
    "#If the test performance is bad but the training performance is good, is the model under-fitting or over-fitting?\n",
    "answer1 = 1 # 0 for under-fitting and 1 for over-fitting\n",
    "\n",
    "#If both are bad, is the model is under-fitting or over-fitting? \n",
    "answer2 = 0 # 0 for under-fitting and 1 for over-fitting\n",
    "\n",
    "# Which models are over-fitted and which ones are under-fitted?\n",
    "overfitted_list = [2,4,5] # Replace by the correct numbers in model_name\n",
    "underfitted_list = [1,8] # Replace by the correct numbers in model_name\n",
    "\n",
    "model_name = [\"Nearest Neighbors\", \"Linear SVM\", \"RBF SVM\", \"Gaussian Process\",\n",
    "         \"Decision Tree\", \"Random Forest\", \"Neural Net\", \"AdaBoost\",\n",
    "         \"Naive Bayes\", \"QDA\"]\n",
    "\n",
    "print(\"Over_fitted models:\")\n",
    "print([model_name[i] for i in overfitted_list])\n",
    "print(\"Under_fitted models:\")\n",
    "print([model_name[i] for i in underfitted_list])\n",
    "# This is the checker code, keep it\n",
    "question = 4\n",
    "answer = answer1-answer2+sum(overfitted_list)-sum(underfitted_list)+model_name.index(best_method)\n",
    "\n",
    "score += check(answer, question)"
   ]
  },
  {
   "cell_type": "markdown",
   "metadata": {},
   "source": [
    "<span style=\"color:red\"> \n",
    "    <b>You can now fill `answer__08()` in answer.py</b>\n",
    "</span>\n"
   ]
  },
  {
   "cell_type": "markdown",
   "metadata": {},
   "source": [
    "<span style=\"color:red\"> \n",
    "    <b>You can now fill `answer__09()` in answer.py</b>\n",
    "</span>\n"
   ]
  },
  {
   "cell_type": "markdown",
   "metadata": {},
   "source": [
    "###  Question 5: Dimensionality reduction\n",
    "It is useful to reduce the data dimension (number of features) for two reasons: ease of visualisation and possibly increase in performance. Two approaches are possible:\n",
    "1. Feature selection.\n",
    "1. Feature transforms.\n",
    "\n",
    "In the first case, one tries to select among the original features. In the second case, one first replaces the original features by \"combinations\" of features, then perform selection. Here we give two simple examples: Feature ranking with the <b>Pearson correlation</b> coefficient (as a feature selection method), and <b>Singular Value Decomposition</b> or SVD (as a feature transform method) .\n",
    "\n",
    "In this section, we keep using the <b>CS scaled data</b>. We use as classifier the <b>3-nearest-neighbor</b> model, which seems to have served us well! We begin by showing you how to do simple feature selection, then we'll guide you step-by-step through SVD."
   ]
  },
  {
   "cell_type": "markdown",
   "metadata": {},
   "source": [
    "### Feature selection example\n",
    "We perform feature selection with the Pearson correlation coefficient as follows:\n",
    "* Compute the correlation matrix (we will only use the last column, i.e. correlation of features with the class label to be predicted)\n",
    "* Sort the correlation coefficients (of features and class label)"
   ]
  },
  {
   "cell_type": "markdown",
   "metadata": {},
   "source": [
    "#### Correlation matrix\n",
    "If we did things right, `data_df` should contain the CS data. "
   ]
  },
  {
   "cell_type": "code",
   "execution_count": 28,
   "metadata": {},
   "outputs": [
    {
     "data": {
      "text/html": [
       "<style  type=\"text/css\" >\n",
       "    #T_4bcbcfbe_4795_11ea_a3b7_fbd801bcf579row0_col0 {\n",
       "            background-color:  #b40426;\n",
       "            color:  #f1f1f1;\n",
       "        }    #T_4bcbcfbe_4795_11ea_a3b7_fbd801bcf579row0_col1 {\n",
       "            background-color:  #bbd1f8;\n",
       "            color:  #000000;\n",
       "        }    #T_4bcbcfbe_4795_11ea_a3b7_fbd801bcf579row0_col2 {\n",
       "            background-color:  #3b4cc0;\n",
       "            color:  #f1f1f1;\n",
       "        }    #T_4bcbcfbe_4795_11ea_a3b7_fbd801bcf579row1_col0 {\n",
       "            background-color:  #c9d7f0;\n",
       "            color:  #000000;\n",
       "        }    #T_4bcbcfbe_4795_11ea_a3b7_fbd801bcf579row1_col1 {\n",
       "            background-color:  #b40426;\n",
       "            color:  #f1f1f1;\n",
       "        }    #T_4bcbcfbe_4795_11ea_a3b7_fbd801bcf579row1_col2 {\n",
       "            background-color:  #506bda;\n",
       "            color:  #000000;\n",
       "        }    #T_4bcbcfbe_4795_11ea_a3b7_fbd801bcf579row2_col0 {\n",
       "            background-color:  #3b4cc0;\n",
       "            color:  #f1f1f1;\n",
       "        }    #T_4bcbcfbe_4795_11ea_a3b7_fbd801bcf579row2_col1 {\n",
       "            background-color:  #3b4cc0;\n",
       "            color:  #f1f1f1;\n",
       "        }    #T_4bcbcfbe_4795_11ea_a3b7_fbd801bcf579row2_col2 {\n",
       "            background-color:  #b40426;\n",
       "            color:  #f1f1f1;\n",
       "        }</style><table id=\"T_4bcbcfbe_4795_11ea_a3b7_fbd801bcf579\" ><thead>    <tr>        <th class=\"blank level0\" ></th>        <th class=\"col_heading level0 col0\" >redness</th>        <th class=\"col_heading level0 col1\" >elongation</th>        <th class=\"col_heading level0 col2\" >fruit</th>    </tr></thead><tbody>\n",
       "                <tr>\n",
       "                        <th id=\"T_4bcbcfbe_4795_11ea_a3b7_fbd801bcf579level0_row0\" class=\"row_heading level0 row0\" >redness</th>\n",
       "                        <td id=\"T_4bcbcfbe_4795_11ea_a3b7_fbd801bcf579row0_col0\" class=\"data row0 col0\" >1</td>\n",
       "                        <td id=\"T_4bcbcfbe_4795_11ea_a3b7_fbd801bcf579row0_col1\" class=\"data row0 col1\" >0.2</td>\n",
       "                        <td id=\"T_4bcbcfbe_4795_11ea_a3b7_fbd801bcf579row0_col2\" class=\"data row0 col2\" >-0.4</td>\n",
       "            </tr>\n",
       "            <tr>\n",
       "                        <th id=\"T_4bcbcfbe_4795_11ea_a3b7_fbd801bcf579level0_row1\" class=\"row_heading level0 row1\" >elongation</th>\n",
       "                        <td id=\"T_4bcbcfbe_4795_11ea_a3b7_fbd801bcf579row1_col0\" class=\"data row1 col0\" >0.2</td>\n",
       "                        <td id=\"T_4bcbcfbe_4795_11ea_a3b7_fbd801bcf579row1_col1\" class=\"data row1 col1\" >1</td>\n",
       "                        <td id=\"T_4bcbcfbe_4795_11ea_a3b7_fbd801bcf579row1_col2\" class=\"data row1 col2\" >-0.3</td>\n",
       "            </tr>\n",
       "            <tr>\n",
       "                        <th id=\"T_4bcbcfbe_4795_11ea_a3b7_fbd801bcf579level0_row2\" class=\"row_heading level0 row2\" >fruit</th>\n",
       "                        <td id=\"T_4bcbcfbe_4795_11ea_a3b7_fbd801bcf579row2_col0\" class=\"data row2 col0\" >-0.4</td>\n",
       "                        <td id=\"T_4bcbcfbe_4795_11ea_a3b7_fbd801bcf579row2_col1\" class=\"data row2 col1\" >-0.3</td>\n",
       "                        <td id=\"T_4bcbcfbe_4795_11ea_a3b7_fbd801bcf579row2_col2\" class=\"data row2 col2\" >1</td>\n",
       "            </tr>\n",
       "    </tbody></table>"
      ],
      "text/plain": [
       "<pandas.io.formats.style.Styler at 0x7fed169ef750>"
      ]
     },
     "execution_count": 28,
     "metadata": {},
     "output_type": "execute_result"
    }
   ],
   "source": [
    "corr = data_df.corr()\n",
    "corr.round(1).style.background_gradient(cmap='coolwarm')"
   ]
  },
  {
   "cell_type": "markdown",
   "metadata": {},
   "source": [
    "#### Sort features"
   ]
  },
  {
   "cell_type": "markdown",
   "metadata": {},
   "source": [
    "Let us first sort all features by the <b>absolute value</b> of the Pearson correlation coefficient. Indeed, variables are informative no matter whether they are correlated or anti-correlated (since it suffices to multiply them by -1 to change the correlation direction)."
   ]
  },
  {
   "cell_type": "code",
   "execution_count": 29,
   "metadata": {},
   "outputs": [
    {
     "name": "stdout",
     "output_type": "stream",
     "text": [
      "['redness' 'elongation']\n"
     ]
    }
   ],
   "source": [
    "sval = corr['fruit'][:-1].abs().sort_values(ascending=False)\n",
    "ranked_columns = sval.index.values\n",
    "print(ranked_columns) "
   ]
  },
  {
   "cell_type": "markdown",
   "metadata": {},
   "source": [
    "We notice that the features that we have constructed in the previous lessons 'R-(G+B)/2' and 'W/H' come in the 5 top most informative features. But there are others. Let us make all scatter plots of pairs of features for the 5 top ranked features."
   ]
  },
  {
   "cell_type": "markdown",
   "metadata": {},
   "source": [
    "#### Visualize top 5 features with PAIRPLOT"
   ]
  },
  {
   "cell_type": "code",
   "execution_count": 30,
   "metadata": {},
   "outputs": [
    {
     "data": {
      "text/html": [
       "<div>\n",
       "<style scoped>\n",
       "    .dataframe tbody tr th:only-of-type {\n",
       "        vertical-align: middle;\n",
       "    }\n",
       "\n",
       "    .dataframe tbody tr th {\n",
       "        vertical-align: top;\n",
       "    }\n",
       "\n",
       "    .dataframe thead th {\n",
       "        text-align: right;\n",
       "    }\n",
       "</style>\n",
       "<table border=\"1\" class=\"dataframe\">\n",
       "  <thead>\n",
       "    <tr style=\"text-align: right;\">\n",
       "      <th></th>\n",
       "      <th>redness</th>\n",
       "      <th>elongation</th>\n",
       "      <th>fruit</th>\n",
       "    </tr>\n",
       "  </thead>\n",
       "  <tbody>\n",
       "    <tr>\n",
       "      <td>0</td>\n",
       "      <td>-0.432637</td>\n",
       "      <td>-0.126039</td>\n",
       "      <td>Apple</td>\n",
       "    </tr>\n",
       "    <tr>\n",
       "      <td>1</td>\n",
       "      <td>1.148003</td>\n",
       "      <td>0.449690</td>\n",
       "      <td>Apple</td>\n",
       "    </tr>\n",
       "    <tr>\n",
       "      <td>2</td>\n",
       "      <td>1.765190</td>\n",
       "      <td>0.157238</td>\n",
       "      <td>Apple</td>\n",
       "    </tr>\n",
       "    <tr>\n",
       "      <td>3</td>\n",
       "      <td>-1.302076</td>\n",
       "      <td>0.591975</td>\n",
       "      <td>Apple</td>\n",
       "    </tr>\n",
       "    <tr>\n",
       "      <td>4</td>\n",
       "      <td>-1.604870</td>\n",
       "      <td>1.109809</td>\n",
       "      <td>Apple</td>\n",
       "    </tr>\n",
       "  </tbody>\n",
       "</table>\n",
       "</div>"
      ],
      "text/plain": [
       "    redness  elongation  fruit\n",
       "0 -0.432637   -0.126039  Apple\n",
       "1  1.148003    0.449690  Apple\n",
       "2  1.765190    0.157238  Apple\n",
       "3 -1.302076    0.591975  Apple\n",
       "4 -1.604870    1.109809  Apple"
      ]
     },
     "execution_count": 30,
     "metadata": {},
     "output_type": "execute_result"
    }
   ],
   "source": [
    "# Make a dataframe with only top five features\n",
    "fruit_name = ['Banana', 'Apple']\n",
    "fruit_list = [fruit_name[int((i+1)/2)] for i in data_df[\"fruit\"].tolist()]\n",
    "col_selected = ranked_columns[0:5]\n",
    "df_5feat = pd.DataFrame.copy(data_df)\n",
    "df_5feat = df_5feat[col_selected]\n",
    "df_5feat['fruit'] = fruit_list\n",
    "df_5feat.head()"
   ]
  },
  {
   "cell_type": "code",
   "execution_count": 31,
   "metadata": {},
   "outputs": [
    {
     "data": {
      "image/png": "[encoded data removed]",
      "text/plain": [
       "<Figure size 441.35x360 with 6 Axes>"
      ]
     },
     "metadata": {
      "needs_background": "light"
     },
     "output_type": "display_data"
    }
   ],
   "source": [
    "# Show pairplot\n",
    "g = sns.pairplot(df_5feat, hue=\"fruit\", markers=[\"o\", \"s\"], diag_kind=\"hist\")"
   ]
  },
  {
   "cell_type": "markdown",
   "metadata": {},
   "source": [
    "#### Learning curves\n",
    "We want to eveluate the effect of varying the number of features. To that end, we build learning curves = performance as a function of feature number."
   ]
  },
  {
   "cell_type": "code",
   "execution_count": 32,
   "metadata": {},
   "outputs": [
    {
     "name": "stdout",
     "output_type": "stream",
     "text": [
      "KNEIGHBORSCLASSIFIER\n",
      "['redness' 'elongation']\n"
     ]
    }
   ],
   "source": [
    "# We use the 3 nearest neighbor classifier to create the learnign curve\n",
    "sklearn_model = KNeighborsClassifier(n_neighbors=3)\n",
    "feat_lc_df = feature_learning_curve(data_df, sklearn_model, sklearn_metric)"
   ]
  },
  {
   "cell_type": "code",
   "execution_count": null,
   "metadata": {},
   "outputs": [],
   "source": [
    "# Plot the learning curve\n",
    "plt.errorbar(feat_lc_df.index+1, feat_lc_df['perf_tr'], yerr=feat_lc_df['std_tr'], label='Training set')\n",
    "plt.errorbar(feat_lc_df.index+1, feat_lc_df['perf_te'], yerr=feat_lc_df['std_te'], label='Test set')\n",
    "plt.xticks(np.arange(1, 22, 1)) \n",
    "plt.xlabel('Number of features')\n",
    "plt.ylabel(sklearn_metric.__name__)\n",
    "plt.legend(loc='lower right')"
   ]
  },
  {
   "cell_type": "markdown",
   "metadata": {},
   "source": [
    "We see the, with 5 features, it is about as good as it gets, given the error bars."
   ]
  },
  {
   "cell_type": "markdown",
   "metadata": {},
   "source": [
    "### Singular Value Decomposition\n",
    "Let us move now to the second way of reducing dimensionality: feature transforms.\n",
    "When we use SVD, the feature transform consists in finding the \"principal directions\"(directions of largest variance). The method is also known as Pricipal Component Analysis (PCA). I simply used my search engine and typed the keywords \"pandas svd\". I found a nice tutorial on <a href=\"https://machinelearningmastery.com/singular-value-decomposition-for-machine-learning/\">this page</a> and a step-by-step procedure on <a href=\"https://cmdlinetips.com/2019/05/singular-value-decomposition-svd-in-python/\">this page</a>. \n",
    "\n",
    "We will guide you step-by-step:\n",
    "* Create a dataframe called `df_scaled` containing the standardized columns, except the last one (tip: just use `drop` to eliminate the last column).\n",
    "* Perform a singular value decomposition of `df_scaled` and call the resulting matrices u, s, v.\n",
    "* Make a scree plot of the eigen values (square of the singular values). Save the plot in file 'svd_scree_plot.png'.\n",
    "* Create a new dataframe `svd_df` with the two singular values as columns and the fruit type as index.\n",
    "* Make pairwise scatter plots of the three first singular values.\n",
    "\n",
    "Then the question to answer will be to compute the performances obtained with the 3 nearest neighbor method using the first 3 singular values."
   ]
  },
  {
   "cell_type": "markdown",
   "metadata": {},
   "source": [
    "<div style=\"background:#FFFFAA\">\n",
    "    Here you need to do something!\n",
    "</div>"
   ]
  },
  {
   "cell_type": "code",
   "execution_count": null,
   "metadata": {},
   "outputs": [],
   "source": [
    "# Make use the CS scaled dataset (this should be already loaded in data_df,\n",
    "# if you did things correctly in previous questions)\n",
    "# To obtain df_scaled, remove the last column of data_df.\n",
    "\n",
    "df_scaled = df_scaled2[{\"redness\", \"elongation\"}] # REPLACE THIS BY THE CORRECT ANSWER\n",
    "\n",
    "df_scaled.head()"
   ]
  },
  {
   "cell_type": "markdown",
   "metadata": {},
   "source": [
    "#### Perform singular value decomposition"
   ]
  },
  {
   "cell_type": "code",
   "execution_count": null,
   "metadata": {},
   "outputs": [],
   "source": [
    "u, s, v = np.linalg.svd(df_scaled, full_matrices=True)\n",
    "print('U {}'.format(u.shape))\n",
    "print('S {}'.format(s.shape))\n",
    "print('V {}'.format(v.shape))"
   ]
  },
  {
   "cell_type": "markdown",
   "metadata": {},
   "source": [
    "#### Make a scree plot\n",
    "This plot allows us to decide how many components to keep, considering the total variance explained."
   ]
  },
  {
   "cell_type": "code",
   "execution_count": null,
   "metadata": {},
   "outputs": [],
   "source": [
    "var_explained = np.round(s**2/np.sum(s**2), decimals=3)\n",
    "sns.barplot(x=list(range(1,len(var_explained)+1)),\n",
    "            y=var_explained, color=\"limegreen\")\n",
    "plt.xlabel('SVs', fontsize=16)\n",
    "plt.ylabel('Percent Variance Explained', fontsize=16)\n",
    "plt.savefig('svd_scree_plot.png',dpi=100)"
   ]
  },
  {
   "cell_type": "markdown",
   "metadata": {},
   "source": [
    "We see that after 3 features there is a big drop in variance. So tentatively, let us keep the top three components."
   ]
  },
  {
   "cell_type": "markdown",
   "metadata": {},
   "source": [
    "#### Pairplot"
   ]
  },
  {
   "cell_type": "code",
   "execution_count": null,
   "metadata": {},
   "outputs": [],
   "source": [
    "# Create a dataframe with only the three first principal components\n",
    "fruit_name = ['Banana', 'Apple']\n",
    "fruit_list = [fruit_name[int((i+1)/2)] for i in df[\"fruit\"].tolist()]\n",
    "fnum=3\n",
    "labels= ['SV'+str(i) for i in range(1,fnum+1)]\n",
    "df_3svd = pd.DataFrame(u[:,0:fnum], columns=labels)\n",
    "df_3svd['fruit'] = fruit_list\n",
    "df_3svd.head()"
   ]
  },
  {
   "cell_type": "markdown",
   "metadata": {},
   "source": [
    "<div style=\"background:#FFFFAA\">\n",
    "    Here you need to do something!\n",
    "</div>"
   ]
  },
  {
   "cell_type": "code",
   "execution_count": null,
   "metadata": {},
   "outputs": [],
   "source": [
    "# Show the pairplot of svd_df"
   ]
  },
  {
   "cell_type": "markdown",
   "metadata": {},
   "source": [
    "#### Evaluate df_3svd: \n",
    "This piece of code will serve you later to answer question 5!"
   ]
  },
  {
   "cell_type": "code",
   "execution_count": null,
   "metadata": {},
   "outputs": [],
   "source": [
    "# We use the function df_cross_validate that we already used in question 3 to evaluate svd_df\n",
    "df_3svd['fruit'] = df.iloc[:, -1].to_numpy() # We replace the target values by numbers\n",
    "p_tr, s_tr, p_te, s_te = df_cross_validate(df_3svd, sklearn_model, sklearn_metric)\n",
    "metric_name = sklearn_metric.__name__.upper()\n",
    "print(\"AVERAGE TRAINING {0:s} +- STD: {1:.2f} +- {2:.2f}\".format(metric_name, p_tr, s_tr))\n",
    "print(\"AVERAGE TEST {0:s} +- STD: {1:.2f} +- {2:.2f}\".format(metric_name, p_te, s_te))"
   ]
  },
  {
   "cell_type": "markdown",
   "metadata": {},
   "source": [
    "#### SVD learning curve:"
   ]
  },
  {
   "cell_type": "code",
   "execution_count": null,
   "metadata": {},
   "outputs": [],
   "source": [
    "# We compute the learning curve for the 3-nearest neighbor classifier ...\n",
    "sklearn_model = KNeighborsClassifier(n_neighbors=3)\n",
    "feat_lc_df = svd_learning_curve(data_df, sklearn_model, sklearn_metric)\n",
    "\n",
    "# and we plot the learning curve\n",
    "plt.errorbar(feat_lc_df.index+1, feat_lc_df['perf_tr'], yerr=feat_lc_df['std_tr'], label='Training set')\n",
    "plt.errorbar(feat_lc_df.index+1, feat_lc_df['perf_te'], yerr=feat_lc_df['std_te'], label='Test set')\n",
    "plt.xticks(np.arange(1, 22, 1)) \n",
    "plt.xlabel('Number of principal compoments')\n",
    "plt.ylabel(sklearn_metric.__name__)\n",
    "plt.legend(loc='lower right')"
   ]
  },
  {
   "cell_type": "markdown",
   "metadata": {},
   "source": [
    "#### Comparison of dimensionality reduction methods "
   ]
  },
  {
   "cell_type": "markdown",
   "metadata": {},
   "source": [
    "Even though features 4 and 5 did not seem to explain a lot of additional variance, there seems to be an optimum at 4 or 5 features. Compare the performances of df_5feat and df_5svd (with 5 top components). Is one significantly better then the other?"
   ]
  },
  {
   "cell_type": "markdown",
   "metadata": {},
   "source": [
    "<div style=\"background:#FFFFAA\">\n",
    "    Here you need to do something!\n",
    "</div>"
   ]
  },
  {
   "cell_type": "code",
   "execution_count": null,
   "metadata": {},
   "outputs": [],
   "source": [
    "df_5svd = df_3svd # Replace with the correct dataframe having 5 principal components\n",
    "\n",
    "# Put here the code to compute the performances of df_5feat and df_5svd\n",
    "fnum=5\n",
    "labels= ['SV'+str(i) for i in range(1,fnum+1)]\n",
    "df_5svd = pd.DataFrame(u[:,0:fnum], columns=labels)\n",
    "df_5svd['fruit'] = df.iloc[:, -1].to_numpy() # Need numeric values\n",
    "p_tr_5svd, s_tr_5svd, p_te_5svd, s_te_5svd = 0,0,0,0 # REPLACE THIS\n",
    "p_tr_5feat, s_tr_5feat, p_te_5feat, s_te_5feat = 0,0,0,0 # REPLACE THIS\n",
    "\n",
    "print(\"5FEAT AVERAGE TRAINING {0:s} +- STD: {1:.2f} +- {2:.2f}\".format(metric_name, p_tr_5feat, s_tr_5feat))\n",
    "print(\"5FEAT AVERAGE TEST {0:s} +- STD: {1:.2f} +- {2:.2f}\".format(metric_name, p_te_5feat, s_te_5feat))\n",
    "print(\"5SVD AVERAGE TRAINING {0:s} +- STD: {1:.2f} +- {2:.2f}\".format(metric_name, p_tr_5svd, s_tr_5svd))\n",
    "print(\"5SVD AVERAGE TEST {0:s} +- STD: {1:.2f} +- {2:.2f}\".format(metric_name, p_te_5svd, s_te_5svd))"
   ]
  },
  {
   "cell_type": "code",
   "execution_count": null,
   "metadata": {},
   "outputs": [],
   "source": [
    "#Does one method give significantly better results than the other?\n",
    "answer = -1 # One for yes and 0 for no\n",
    "\n",
    "# This is the checker code, keep it\n",
    "question = 5\n",
    "answer = 0.001*(p_te_5feat-p_te_5svd)/(s_te_5feat+s_te_5svd)\n",
    "score += check(answer, question)"
   ]
  },
  {
   "cell_type": "code",
   "execution_count": null,
   "metadata": {},
   "outputs": [],
   "source": [
    "print('Your final score is %d / 5, congratulations!' % score)"
   ]
  },
  {
   "cell_type": "markdown",
   "metadata": {},
   "source": [
    "<div style=\"background:#FFFFAA\">\n",
    "<span style=\"color:red\">\n",
    "<br>\n",
    "    To finalize your homework:\n",
    "<b>\n",
    "<ul>\n",
    "    <li> Use  Kernel + Restart and Run all.</li>\n",
    "    <li> Save your notebook.</li>\n",
    "    <li> Push your changes to your GitHub repo with:</li>\n",
    "</ul>   \n",
    "</b>\n",
    "<pre>\n",
    "git add .\n",
    "git commit -m 'my homework is done'\n",
    "git push\n",
    "</pre>\n",
    "<br>\n",
    "</span>\n",
    "</div>"
   ]
  },
  {
   "cell_type": "code",
   "execution_count": null,
   "metadata": {},
   "outputs": [],
   "source": []
  }
 ],
 "metadata": {
  "kernelspec": {
   "display_name": "Python 3",
   "language": "python",
   "name": "python3"
  },
  "language_info": {
   "codemirror_mode": {
    "name": "ipython",
    "version": 3
   },
   "file_extension": ".py",
   "mimetype": "text/x-python",
   "name": "python",
   "nbconvert_exporter": "python",
   "pygments_lexer": "ipython3",
   "version": "3.7.4"
  },
  "toc": {
   "nav_menu": {},
   "number_sections": false,
   "sideBar": true,
   "skip_h1_title": false,
   "toc_cell": false,
   "toc_position": {},
   "toc_section_display": "block",
   "toc_window_display": false
  }
 },
 "nbformat": 4,
 "nbformat_minor": 2
}
